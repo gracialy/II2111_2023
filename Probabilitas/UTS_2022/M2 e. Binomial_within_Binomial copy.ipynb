{
 "cells": [
  {
   "cell_type": "markdown",
   "metadata": {},
   "source": [
    "# BINOMIAL WITHIN BINOMIAL\n",
    "> Transmisi Paket"
   ]
  },
  {
   "cell_type": "code",
   "execution_count": 1,
   "metadata": {},
   "outputs": [],
   "source": [
    "from scipy.stats import binom\n",
    "'''USAGE'''\n",
    "n = 256 # jumlah bit\n",
    "p = 0.033 # P(error)\n",
    "max_error = 12 # max bit error\n",
    "\n",
    "q=1-p"
   ]
  },
  {
   "cell_type": "markdown",
   "metadata": {},
   "source": [
    "```CDF: F(x)```\n",
    "\n",
    "```PMF: f(x)```"
   ]
  },
  {
   "cell_type": "code",
   "execution_count": 2,
   "metadata": {},
   "outputs": [
    {
     "name": "stdout",
     "output_type": "stream",
     "text": [
      "25.a. P(paket benar) = F(12) = 0.9157117952512748\n"
     ]
    }
   ],
   "source": [
    "# X: jumlah bit error\n",
    "# X ~ binom (n, p)\n",
    "\n",
    "# P(benar) = P(X<=5)\n",
    "p_benar = binom.cdf(max_error, n, p)\n",
    "print(f\"25.a. P(paket benar) = F({max_error}) =\", p_benar)"
   ]
  },
  {
   "cell_type": "code",
   "execution_count": 3,
   "metadata": {},
   "outputs": [
    {
     "name": "stdout",
     "output_type": "stream",
     "text": [
      "25.b. EX = 8.169216\n"
     ]
    }
   ],
   "source": [
    "EX = n * p * q\n",
    "print(f\"25.b. EX =\", EX)"
   ]
  },
  {
   "cell_type": "code",
   "execution_count": 5,
   "metadata": {},
   "outputs": [
    {
     "name": "stdout",
     "output_type": "stream",
     "text": [
      "25.c. varX = 8.448\n"
     ]
    }
   ],
   "source": [
    "varX = n * p\n",
    "print(f\"25.c. varX =\", varX)"
   ]
  },
  {
   "cell_type": "code",
   "execution_count": 7,
   "metadata": {},
   "outputs": [
    {
     "name": "stdout",
     "output_type": "stream",
     "text": [
      "25.d. F(2 ERROR) = 9.132726227777825e-260\n"
     ]
    }
   ],
   "source": [
    "# P: jumlah paket benar\n",
    "# P ~ binom (jumlah_paket, p_benar)\n",
    "\n",
    "'''USAGE'''\n",
    "jumlah_paket = 250\n",
    "jumlah_error = 3\n",
    "q_salah = p_benar\n",
    "\n",
    "# P(X>=x ERROR) = 1-F(x-1 ERROR)\n",
    "\n",
    "print(f\"25.d. F({jumlah_error-1} ERROR) =\", binom.cdf(jumlah_error, jumlah_paket, q_salah))"
   ]
  }
 ],
 "metadata": {
  "kernelspec": {
   "display_name": "Python 3",
   "language": "python",
   "name": "python3"
  },
  "language_info": {
   "codemirror_mode": {
    "name": "ipython",
    "version": 3
   },
   "file_extension": ".py",
   "mimetype": "text/x-python",
   "name": "python",
   "nbconvert_exporter": "python",
   "pygments_lexer": "ipython3",
   "version": "3.10.5"
  }
 },
 "nbformat": 4,
 "nbformat_minor": 2
}
