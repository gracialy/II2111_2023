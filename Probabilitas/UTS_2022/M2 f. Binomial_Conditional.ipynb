{
 "cells": [
  {
   "cell_type": "markdown",
   "metadata": {},
   "source": [
    "# BINOMIAL\n",
    "> Sistem komunikasi"
   ]
  },
  {
   "cell_type": "code",
   "execution_count": 10,
   "metadata": {},
   "outputs": [],
   "source": [
    "from scipy.stats import binom\n",
    "# dik:\n",
    "'''USAGE'''\n",
    "\n",
    "p = 0.95\n",
    "n = 11\n",
    "\n",
    "q = 1-p"
   ]
  },
  {
   "cell_type": "markdown",
   "metadata": {},
   "source": [
    "```CDF: F(x)```\n",
    "\n",
    "```PMF: f(x)```"
   ]
  },
  {
   "cell_type": "code",
   "execution_count": 2,
   "metadata": {},
   "outputs": [
    {
     "name": "stdout",
     "output_type": "stream",
     "text": [
      "     x            fx            Fx           xfx   x2          x2fx\n",
      "0    0  4.882813e-15  4.882813e-15  0.000000e+00    0  0.000000e+00\n",
      "1    1  1.020508e-12  1.025391e-12  1.020508e-12    1  1.020508e-12\n",
      "2    2  9.694824e-11  9.797363e-11  1.938965e-10    4  3.877930e-10\n",
      "3    3  5.526050e-09  5.624023e-09  1.657815e-08    9  4.973445e-08\n",
      "4    4  2.099899e-07  2.156139e-07  8.399596e-07   16  3.359838e-06\n",
      "5    5  5.585731e-06  5.801345e-06  2.792866e-05   25  1.396433e-04\n",
      "6    6  1.061289e-04  1.119302e-04  6.367734e-04   36  3.820640e-03\n",
      "7    7  1.440321e-03  1.552251e-03  1.008224e-02   49  7.057571e-02\n",
      "8    8  1.368305e-02  1.523530e-02  1.094644e-01   64  8.757150e-01\n",
      "9    9  8.665929e-02  1.018946e-01  7.799336e-01   81  7.019403e+00\n",
      "10  10  3.293053e-01  4.311999e-01  3.293053e+00  100  3.293053e+01\n",
      "11  11  5.688001e-01  1.000000e+00  6.256801e+00  121  6.882481e+01 \n",
      "\n",
      "EX: 10.45\n",
      "EX2: 109.725\n",
      "varX: 0.522500000000008\n",
      "modus_x: [11]\n",
      "\n"
     ]
    }
   ],
   "source": [
    "# Binomial Overview\n",
    "from math import comb\n",
    "import pandas as pd\n",
    "\n",
    "def binom_pmf(x, n, p):\n",
    "    return comb(n, x) * p**x * (1-p) ** (n-x)\n",
    "\n",
    "# nilai random variable\n",
    "x_list = [i for i in range (n+1)]\n",
    "fx = [binom_pmf(x, n, p) for x in x_list]\n",
    "\n",
    "''''''\n",
    "# USAGE\n",
    "# Keuntungan yang diharapkan\n",
    "# x_list = [100, 50, 10]\n",
    "# fx = [0.3, 0.36, 0.1]\n",
    "\n",
    "# make table of x and fx column\n",
    "tabel_fx = pd.DataFrame({'x': x_list,\n",
    "                        'fx': fx})\n",
    "# add Fx column\n",
    "tabel_fx['Fx'] = tabel_fx['fx'].cumsum()\n",
    "# add xfx column\n",
    "tabel_fx['xfx'] = tabel_fx['x'] * tabel_fx['fx']\n",
    "# add x2 column\n",
    "tabel_fx['x2'] = tabel_fx['x'] ** 2\n",
    "# add x2fx\n",
    "tabel_fx['x2fx'] = tabel_fx['x2'] * tabel_fx['fx']\n",
    "\n",
    "\n",
    "EX = tabel_fx['xfx'].sum()\n",
    "EX2 = tabel_fx['x2fx'].sum()\n",
    "varX = EX2 - (EX) ** 2\n",
    "\n",
    "max_fx = tabel_fx['fx'].max()\n",
    "modus_x = tabel_fx.loc[tabel_fx['fx'] == max_fx, 'x'].values\n",
    "# only continuous has median\n",
    "\n",
    "print(tabel_fx, \"\\n\")\n",
    "print(f\"EX: {EX}\")\n",
    "print(f\"EX2: {EX2}\")\n",
    "print(f\"varX: {varX}\")\n",
    "print(f\"modus_x: {modus_x}\\n\")"
   ]
  },
  {
   "cell_type": "code",
   "execution_count": 3,
   "metadata": {},
   "outputs": [
    {
     "data": {
      "text/plain": [
       "0.06666666666666667"
      ]
     },
     "execution_count": 3,
     "metadata": {},
     "output_type": "execute_result"
    }
   ],
   "source": [
    "# a\n",
    "import math\n",
    "# P(DJ ON | 4 ON) = n favorable / n(3)\n",
    "bekerja = 4\n",
    "nkerja = math.comb(n, bekerja)\n",
    "\n",
    "# DJ favorable | x=4\n",
    "# (1)     (2)   (3)     (4)\n",
    "# i     ii      2       ~       = 2*8\n",
    "# v    iii      ii      2       = 2\n",
    "# v     vi      iv      2       = 2\n",
    "# v     x       iv      2       = 2\n",
    "\n",
    "(16+2*3)/nkerja"
   ]
  },
  {
   "cell_type": "code",
   "execution_count": 5,
   "metadata": {},
   "outputs": [
    {
     "data": {
      "text/plain": [
       "0.012121212121212121"
      ]
     },
     "execution_count": 5,
     "metadata": {},
     "output_type": "execute_result"
    }
   ],
   "source": [
    "# b\n",
    "import math\n",
    "# P(DJ ON | 4 ON) = n favorable / n(3)\n",
    "bekerja = 3\n",
    "nkerja = math.comb(n, bekerja)\n",
    "\n",
    "# DJ favorable | x=3\n",
    "# (1)     (2)   (3)    \n",
    "# i     ii      2    = 2\n",
    "\n",
    "(2)/nkerja"
   ]
  },
  {
   "cell_type": "code",
   "execution_count": 11,
   "metadata": {},
   "outputs": [
    {
     "data": {
      "text/plain": [
       "0.990386578125"
      ]
     },
     "execution_count": 11,
     "metadata": {},
     "output_type": "execute_result"
    }
   ],
   "source": [
    "# c\n",
    "'''USAGE'''\n",
    "\n",
    "# - parallel - or\n",
    "# a + b - a*b\n",
    "def ser(n, p):\n",
    "    return p**n\n",
    "\n",
    "# - series - and\n",
    "# a*b\n",
    "def par(ap, bp):\n",
    "    return ap + bp - ap*bp\n",
    "\n",
    "# P(IJ favorable)\n",
    "# PAR(SER(6, 3, 2), 4) AND PAR(8, 9)\n",
    "\n",
    "# series AND parallel = ser * par\n",
    "\n",
    "ser1 = ser(3, p)\n",
    "par1 = par(ser1, p)\n",
    "par2 = par(p, p)\n",
    "\n",
    "par1 * par2"
   ]
  },
  {
   "cell_type": "code",
   "execution_count": null,
   "metadata": {},
   "outputs": [],
   "source": [
    "# d\n",
    "'''USAGE'''\n",
    "\n",
    "# - parallel - or\n",
    "# a + b - a*b\n",
    "def ser(n, p):\n",
    "    return p**n\n",
    "\n",
    "# - series - and\n",
    "# a*b\n",
    "def par(ap, bp):\n",
    "    return ap + bp - ap*bp\n",
    "\n",
    "# P(BG favorable)\n",
    "# PAR(SER(6, 3, 2), 4) AND PAR(8, 9)\n",
    "\n",
    "# series AND parallel = ser * par\n",
    "\n",
    "ser1 = ser(3, p)\n",
    "par1 = par(ser1, p)\n",
    "par2 = par(p, p)\n",
    "\n",
    "par1 * par2"
   ]
  },
  {
   "cell_type": "code",
   "execution_count": 4,
   "metadata": {},
   "outputs": [
    {
     "name": "stdout",
     "output_type": "stream",
     "text": [
      "f(3) = 0.00010025488477732169\n"
     ]
    }
   ],
   "source": [
    "'''USAGE'''\n",
    "positif = 3\n",
    "\n",
    "print(f\"f({positif}) =\", binom.pmf(positif, n, p))"
   ]
  },
  {
   "cell_type": "code",
   "execution_count": 5,
   "metadata": {},
   "outputs": [
    {
     "name": "stdout",
     "output_type": "stream",
     "text": [
      "1<=X<=4: 0.0010213589125173876\n"
     ]
    }
   ],
   "source": [
    "# P(a<=X<=b) = F(b) - F(a-1)\n",
    "F4 = binom.cdf(4, n, p)\n",
    "F0 = binom.cdf(0, n, p)\n",
    "\n",
    "print(f\"1<=X<=4:\", F4 + F0)"
   ]
  }
 ],
 "metadata": {
  "kernelspec": {
   "display_name": "Python 3",
   "language": "python",
   "name": "python3"
  },
  "language_info": {
   "codemirror_mode": {
    "name": "ipython",
    "version": 3
   },
   "file_extension": ".py",
   "mimetype": "text/x-python",
   "name": "python",
   "nbconvert_exporter": "python",
   "pygments_lexer": "ipython3",
   "version": "3.10.5"
  }
 },
 "nbformat": 4,
 "nbformat_minor": 2
}
