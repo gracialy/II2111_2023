{
 "cells": [
  {
   "cell_type": "markdown",
   "metadata": {},
   "source": [
    "# BINOMIAL\n",
    "> Fraud Detection System"
   ]
  },
  {
   "cell_type": "code",
   "execution_count": 2,
   "metadata": {},
   "outputs": [],
   "source": [
    "from scipy.stats import binom\n",
    "# dik:\n",
    "'''USAGE'''\n",
    "\n",
    "n = 4\n",
    "p = 0.975\n",
    "q = 1-p"
   ]
  },
  {
   "cell_type": "markdown",
   "metadata": {},
   "source": [
    "```CDF: F(x)```\n",
    "\n",
    "```PMF: f(x)```"
   ]
  },
  {
   "cell_type": "code",
   "execution_count": 2,
   "metadata": {},
   "outputs": [
    {
     "name": "stdout",
     "output_type": "stream",
     "text": [
      "   x            fx            Fx       xfx  x2       x2fx\n",
      "0  0  3.906250e-07  3.906250e-07  0.000000   0   0.000000\n",
      "1  1  6.093750e-05  6.132813e-05  0.000061   1   0.000061\n",
      "2  2  3.564844e-03  3.626172e-03  0.007130   4   0.014259\n",
      "3  3  9.268594e-02  9.631211e-02  0.278058   9   0.834173\n",
      "4  4  9.036879e-01  1.000000e+00  3.614752  16  14.459006 \n",
      "\n",
      "EX: 3.9\n",
      "EX2: 15.3075\n",
      "varX: 0.09750000000000014\n",
      "modus_x: [4]\n",
      "\n",
      "   y            fy        Fy       yfy  y2      y2fy\n",
      "0  0  9.036879e-01  0.903688  0.000000   0  0.000000\n",
      "1  1  9.268594e-02  0.996374  0.092686   1  0.092686\n",
      "2  2  3.564844e-03  0.999939  0.007130   4  0.014259\n",
      "3  3  6.093750e-05  1.000000  0.000183   9  0.000548\n",
      "4  4  3.906250e-07  1.000000  0.000002  16  0.000006 \n",
      "\n",
      "EY: 0.10000000000000009\n",
      "EY2: 0.10750000000000011\n",
      "varY: 0.09750000000000009\n",
      "modus_y: [0]\n",
      "\n"
     ]
    }
   ],
   "source": [
    "# Binomial Bivariates Overview\n",
    "from math import comb\n",
    "import pandas as pd\n",
    "\n",
    "def binom_pmf(x, n, p):\n",
    "    return comb(n, x) * p**x * (1-p) ** (n-x)\n",
    "\n",
    "# nilai random variable\n",
    "x_list = [i for i in range (n+1)]\n",
    "fx = [binom_pmf(x, n, p) for x in x_list]\n",
    "\n",
    "''''''\n",
    "# USAGE\n",
    "# Keuntungan yang diharapkan\n",
    "# x_list = [100, 50, 10]\n",
    "# fx = [0.3, 0.36, 0.1]\n",
    "\n",
    "# make table of x and fx column\n",
    "tabel_fx = pd.DataFrame({'x': x_list,\n",
    "                        'fx': fx})\n",
    "# add Fx column\n",
    "tabel_fx['Fx'] = tabel_fx['fx'].cumsum()\n",
    "# add xfx column\n",
    "tabel_fx['xfx'] = tabel_fx['x'] * tabel_fx['fx']\n",
    "# add x2 column\n",
    "tabel_fx['x2'] = tabel_fx['x'] ** 2\n",
    "# add x2fx\n",
    "tabel_fx['x2fx'] = tabel_fx['x2'] * tabel_fx['fx']\n",
    "\n",
    "\n",
    "EX = tabel_fx['xfx'].sum()\n",
    "EX2 = tabel_fx['x2fx'].sum()\n",
    "varX = EX2 - (EX) ** 2\n",
    "\n",
    "max_fx = tabel_fx['fx'].max()\n",
    "modus_x = tabel_fx.loc[tabel_fx['fx'] == max_fx, 'x'].values\n",
    "# only continuous has median\n",
    "\n",
    "\n",
    "# ---\n",
    "y_list = [i for i in range (n+1)]; fy = [binom_pmf(y, n, q) for y in y_list]\n",
    "tabel_fy = pd.DataFrame({'y': y_list, 'fy': fy})\n",
    "tabel_fy['Fy'] = tabel_fy['fy'].cumsum()\n",
    "tabel_fy['yfy'] = tabel_fy['y'] * tabel_fy['fy']\n",
    "tabel_fy['y2'] = tabel_fy['y'] ** 2\n",
    "tabel_fy['y2fy'] = tabel_fy['y2'] * tabel_fy['fy']\n",
    "\n",
    "EY = tabel_fy['yfy'].sum()\n",
    "EY2 = tabel_fy['y2fy'].sum()\n",
    "varY = EY2 - (EY) ** 2\n",
    "max_fy = tabel_fy['fy'].max()\n",
    "modus_y = tabel_fy.loc[tabel_fy['fy'] == max_fy, 'y'].values\n",
    "# only continuous has median\n",
    "# ---\n",
    "\n",
    "print(tabel_fx, \"\\n\")\n",
    "print(f\"EX: {EX}\")\n",
    "print(f\"EX2: {EX2}\")\n",
    "print(f\"varX: {varX}\")\n",
    "print(f\"modus_x: {modus_x}\\n\")\n",
    "\n",
    "print(tabel_fy, \"\\n\")\n",
    "print(f\"EY: {EY}\")\n",
    "print(f\"EY2: {EY2}\")\n",
    "print(f\"varY: {varY}\")\n",
    "print(f\"modus_y: {modus_y}\\n\")"
   ]
  },
  {
   "cell_type": "code",
   "execution_count": 3,
   "metadata": {},
   "outputs": [
    {
     "data": {
      "text/plain": [
       "0.999999609375"
      ]
     },
     "execution_count": 3,
     "metadata": {},
     "output_type": "execute_result"
    }
   ],
   "source": [
    "# P(X>=x) = 1-F(x-1)\n",
    "1-binom.cdf(1-1, n, p)"
   ]
  },
  {
   "cell_type": "code",
   "execution_count": 4,
   "metadata": {},
   "outputs": [
    {
     "data": {
      "text/plain": [
       "0.999938671875"
      ]
     },
     "execution_count": 4,
     "metadata": {},
     "output_type": "execute_result"
    }
   ],
   "source": [
    "# P(X>=x) = 1-F(x-1)\n",
    "1-binom.cdf(2-1, n, p)"
   ]
  },
  {
   "cell_type": "code",
   "execution_count": 5,
   "metadata": {},
   "outputs": [
    {
     "data": {
      "text/plain": [
       "0.09631210937500008"
      ]
     },
     "execution_count": 5,
     "metadata": {},
     "output_type": "execute_result"
    }
   ],
   "source": [
    "# P(X<=x) = F(x)\n",
    "binom.cdf(3, n, p)"
   ]
  },
  {
   "cell_type": "code",
   "execution_count": 6,
   "metadata": {},
   "outputs": [
    {
     "data": {
      "text/plain": [
       "0.996373828125"
      ]
     },
     "execution_count": 6,
     "metadata": {},
     "output_type": "execute_result"
    }
   ],
   "source": [
    "import math\n",
    "pelanggan = 8000\n",
    "per = 3000\n",
    "minimal = math.ceil(pelanggan/per)\n",
    "# P(X>=x)\n",
    "1 - binom.cdf(minimal-1, n, p)"
   ]
  },
  {
   "cell_type": "code",
   "execution_count": 13,
   "metadata": {},
   "outputs": [
    {
     "data": {
      "text/plain": [
       "(3.9, 0.09750000000000014)"
      ]
     },
     "execution_count": 13,
     "metadata": {},
     "output_type": "execute_result"
    }
   ],
   "source": [
    "EX, varX"
   ]
  },
  {
   "cell_type": "markdown",
   "metadata": {},
   "source": [
    "# BIVARIATES\n",
    ">  Data Center"
   ]
  },
  {
   "cell_type": "code",
   "execution_count": null,
   "metadata": {},
   "outputs": [],
   "source": [
    "EY = n * q\n",
    "varY = n * p * q\n",
    "\n",
    "print(f\"16. EY: {EY}\")\n",
    "print(f\"17. varY: {varY}\")"
   ]
  },
  {
   "cell_type": "code",
   "execution_count": null,
   "metadata": {},
   "outputs": [],
   "source": [
    "# Bivariates Overview\n",
    "# p + q = 1\n",
    "\n",
    "import pandas as pd\n",
    "from scipy.special import comb\n",
    "from scipy.stats import binom\n",
    "\n",
    "# Inisialisasi tabel f(x, y)\n",
    "f_table = []\n",
    "\n",
    "EXY=0\n",
    "# Menghitung probabilitas dan mengisi tabel\n",
    "for x in range(n + 1):\n",
    "    row = []\n",
    "    for y in range(n + 1):\n",
    "        if x + y == n:\n",
    "            prob = comb(n, x) * (p**x) * ((1 - p)**y)\n",
    "            EXY += x * y * prob\n",
    "            row.append(prob)\n",
    "        else:\n",
    "            row.append(0.0)\n",
    "    f_table.append(row)\n",
    "\n",
    "# Membuat DataFrame Pandas dari tabel\n",
    "df = pd.DataFrame(f_table, columns=[f'y={y}' for y in range(n + 1)], index=[f'x={x}' for x in range(n + 1)])\n",
    "\n",
    "# σxy = Cov(x, y): kovariansi\n",
    "# ρxy: koefisien korelasi\n",
    "σxy = EXY - EX * EY\n",
    "σx = varX ** 0.5\n",
    "σy = varY ** 0.5\n",
    "ρxy = σxy/(σx*σy)\n",
    "\n",
    "# Menampilkan DataFrame yang telah ditambahkan fungsi h(y) dan g(x)\n",
    "print(df, \"\\n\")\n",
    "print(f\"EXY = {EXY}\")\n",
    "print(f\"kovariansi: σxy = {σxy}\")\n",
    "print(f\"koefisien korelasi: ρxy = {ρxy}\")\n"
   ]
  },
  {
   "cell_type": "code",
   "execution_count": null,
   "metadata": {},
   "outputs": [],
   "source": [
    "print(f\"18. kovariansi: σxy = {σxy}\")\n",
    "print(f\"19. koefisien korelasi: ρxy = {ρxy}\")"
   ]
  }
 ],
 "metadata": {
  "kernelspec": {
   "display_name": "Python 3",
   "language": "python",
   "name": "python3"
  },
  "language_info": {
   "codemirror_mode": {
    "name": "ipython",
    "version": 3
   },
   "file_extension": ".py",
   "mimetype": "text/x-python",
   "name": "python",
   "nbconvert_exporter": "python",
   "pygments_lexer": "ipython3",
   "version": "3.10.5"
  }
 },
 "nbformat": 4,
 "nbformat_minor": 2
}
