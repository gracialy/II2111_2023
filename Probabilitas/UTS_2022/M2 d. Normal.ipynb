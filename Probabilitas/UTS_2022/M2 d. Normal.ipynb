{
 "cells": [
  {
   "cell_type": "markdown",
   "metadata": {},
   "source": [
    "# NORMAL\n",
    "> Tegangan dan Daya"
   ]
  },
  {
   "cell_type": "code",
   "execution_count": 1,
   "metadata": {},
   "outputs": [],
   "source": [
    "from scipy.stats import norm\n",
    "# V ~ Normal (mean, stdev)\n",
    "\n",
    "'''USAGE'''\n",
    "mean = 33\n",
    "stdev = 5\n",
    "R = 40\n",
    "\n",
    "varV = stdev**2\n",
    "EV = mean"
   ]
  },
  {
   "cell_type": "code",
   "execution_count": 2,
   "metadata": {},
   "outputs": [
    {
     "name": "stdout",
     "output_type": "stream",
     "text": [
      "24a. F(25)-F(20) = 0.05013810367583923\n"
     ]
    }
   ],
   "source": [
    "\n",
    "'''USAGE'''\n",
    "lower_bound = 20\n",
    "upper_bound = 25\n",
    "\n",
    "print(f\"24a. F({upper_bound})-F({lower_bound}) =\", norm.cdf(upper_bound, loc=mean, scale=stdev) - norm.cdf(lower_bound, loc=mean, scale=stdev))"
   ]
  },
  {
   "cell_type": "code",
   "execution_count": 3,
   "metadata": {},
   "outputs": [
    {
     "name": "stdout",
     "output_type": "stream",
     "text": [
      "24b. 1-F(30) = 0.7257468822499265\n"
     ]
    }
   ],
   "source": [
    "'''USAGE'''\n",
    "# P(V>v) = 1 - F(v)\n",
    "v = 30\n",
    "\n",
    "print(f\"24b. 1-F({v}) =\", 1-norm.cdf(v, loc=mean, scale=stdev))"
   ]
  },
  {
   "cell_type": "code",
   "execution_count": 4,
   "metadata": {},
   "outputs": [
    {
     "name": "stdout",
     "output_type": "stream",
     "text": [
      "24c. F(27) = 0.11506967022170822\n"
     ]
    }
   ],
   "source": [
    "'''USAGE'''\n",
    "# P(V<v) = F(v)\n",
    "v = 27\n",
    "\n",
    "print(f\"24c. F({v}) =\", norm.cdf(v, loc=mean, scale=stdev))"
   ]
  },
  {
   "cell_type": "code",
   "execution_count": 5,
   "metadata": {},
   "outputs": [
    {
     "name": "stdout",
     "output_type": "stream",
     "text": [
      "24d. EP = 27.85\n"
     ]
    }
   ],
   "source": [
    "# E(P) = E(V**2/R) = E(V**2)/R\n",
    "EV2 = varV + EV**2\n",
    "EP = EV2/R\n",
    "\n",
    "print(f\"24d. EP =\", EP)"
   ]
  },
  {
   "cell_type": "code",
   "execution_count": 21,
   "metadata": {},
   "outputs": [
    {
     "name": "stdout",
     "output_type": "stream",
     "text": [
      "24e. varP = 100.32000000000016\n"
     ]
    }
   ],
   "source": [
    "# var(P) = E(P**2) - E(P)**2\n",
    "EV4 = norm.moment(4, loc=mean, scale=stdev)\n",
    "EP2 = EV4/R**2\n",
    "varP = EP2 - EP**2\n",
    "\n",
    "print(f\"24e. varP =\", varP)"
   ]
  }
 ],
 "metadata": {
  "kernelspec": {
   "display_name": "Python 3",
   "language": "python",
   "name": "python3"
  },
  "language_info": {
   "codemirror_mode": {
    "name": "ipython",
    "version": 3
   },
   "file_extension": ".py",
   "mimetype": "text/x-python",
   "name": "python",
   "nbconvert_exporter": "python",
   "pygments_lexer": "ipython3",
   "version": "3.10.5"
  }
 },
 "nbformat": 4,
 "nbformat_minor": 2
}
