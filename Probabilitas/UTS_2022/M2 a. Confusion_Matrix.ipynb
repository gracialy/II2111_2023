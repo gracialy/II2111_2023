{
 "cells": [
  {
   "cell_type": "markdown",
   "metadata": {},
   "source": [
    "# CONFUSION MATRIX\n",
    "> Positif COVID"
   ]
  },
  {
   "cell_type": "code",
   "execution_count": 50,
   "metadata": {},
   "outputs": [
    {
     "data": {
      "text/html": [
       "<div>\n",
       "<style scoped>\n",
       "    .dataframe tbody tr th:only-of-type {\n",
       "        vertical-align: middle;\n",
       "    }\n",
       "\n",
       "    .dataframe tbody tr th {\n",
       "        vertical-align: top;\n",
       "    }\n",
       "\n",
       "    .dataframe thead th {\n",
       "        text-align: right;\n",
       "    }\n",
       "</style>\n",
       "<table border=\"1\" class=\"dataframe\">\n",
       "  <thead>\n",
       "    <tr style=\"text-align: right;\">\n",
       "      <th></th>\n",
       "      <th>E | H</th>\n",
       "      <th>E</th>\n",
       "      <th>Ec</th>\n",
       "    </tr>\n",
       "  </thead>\n",
       "  <tbody>\n",
       "    <tr>\n",
       "      <th>0</th>\n",
       "      <td>H</td>\n",
       "      <td>TP</td>\n",
       "      <td>FP</td>\n",
       "    </tr>\n",
       "    <tr>\n",
       "      <th>1</th>\n",
       "      <td>Hc</td>\n",
       "      <td>FN</td>\n",
       "      <td>TN</td>\n",
       "    </tr>\n",
       "  </tbody>\n",
       "</table>\n",
       "</div>"
      ],
      "text/plain": [
       "  E | H   E  Ec\n",
       "0     H  TP  FP\n",
       "1    Hc  FN  TN"
      ]
     },
     "execution_count": 50,
     "metadata": {},
     "output_type": "execute_result"
    }
   ],
   "source": [
    "import pandas as pd\n",
    "\n",
    "# H: actual values (kasus)\n",
    "# E: predicted values\n",
    "\n",
    "cm = {\n",
    "    'E | H': [\"H\" , \"Hc\"],\n",
    "    'E': ['TP', 'FN'],\n",
    "    'Ec': ['FP', 'TN']\n",
    "}\n",
    "\n",
    "df = pd.DataFrame(cm)\n",
    "df"
   ]
  },
  {
   "cell_type": "code",
   "execution_count": 51,
   "metadata": {},
   "outputs": [],
   "source": [
    "# dik:\n",
    "'''ALL USAGE'''\n",
    "\n",
    "semesta = 270600000\n",
    "H = 17435 # kasus positif\n",
    "\n",
    "fnr = 0.205\n",
    "fpr = 0.0005\n",
    "\n",
    "fn = fnr\n",
    "fp = fpr\n",
    "tp = 1-fn\n",
    "tn = 1-fp\n",
    "# fnr = fn/(tp+fn)\n",
    "# fpr = fp/(tn+fp)\n"
   ]
  },
  {
   "cell_type": "code",
   "execution_count": 53,
   "metadata": {},
   "outputs": [],
   "source": [
    "pH = H/semesta\n",
    "pHc = 1 - pH\n",
    "\n",
    "pEnH = tpr * pH\n",
    "pEnHc = fpr * pHc\n",
    "pEcnHc = tnr * pHc\n",
    "\n",
    "pE = pEnH + pEnHc\n",
    "pEc = 1-pE\n",
    "\n",
    "# - E|H: TPR, recall, sensitivity\n",
    "tpr = tp/(tp+fn)\n",
    "# - Ec|H: FNR, miss rate\n",
    "fnr = fn/(tp+fn)\n",
    "\n",
    "# - E|Hc: FPR, false alarm\n",
    "fpr = fp/(tn+fp)\n",
    "# - Ec|Hc: TNR, specificity\n",
    "tnr = tn/(tn+fp)\n",
    "\n",
    "# - H|E: PPV, precision\n",
    "ppv = tp/(tp+fp)\n",
    "# - Hc|E: FDR\n",
    "fdr = fp/(tp+fp)\n",
    "\n",
    "# - H|Ec: FOR\n",
    "forr = fn/(tn+fn)\n",
    "# - Hc|Ec: NPV\n",
    "npv = tn/(tn+fn)\n",
    "\n",
    "# ACC\n",
    "acc = (tp+tn)/(tp+tn+fp+fn)"
   ]
  },
  {
   "cell_type": "code",
   "execution_count": 54,
   "metadata": {},
   "outputs": [
    {
     "name": "stdout",
     "output_type": "stream",
     "text": [
      "1.a. prevalensi: pH = 6.44308943089431e-05\n"
     ]
    }
   ],
   "source": [
    "print(\"1.a. prevalensi: pH =\", pH)"
   ]
  },
  {
   "cell_type": "code",
   "execution_count": 55,
   "metadata": {},
   "outputs": [
    {
     "name": "stdout",
     "output_type": "stream",
     "text": [
      "1.b. 0.795\n",
      "1.c. 0.205\n",
      "1.d. 0.0005\n",
      "1.e. 0.9995\n"
     ]
    }
   ],
   "source": [
    "# 1.b. E | H = tpr = 1-fnr\n",
    "# 1.c. Ec | H = fnr\n",
    "# 1.d. E | Hc = fpr\n",
    "# 1.e. Ec | Hc = tnr = 1-fpr\n",
    "print(\"1.b.\", tpr)\n",
    "print(\"1.c.\", fnr)\n",
    "print(\"1.d.\", fpr)\n",
    "print(\"1.e.\", tnr)"
   ]
  },
  {
   "cell_type": "code",
   "execution_count": 56,
   "metadata": {},
   "outputs": [
    {
     "name": "stdout",
     "output_type": "stream",
     "text": [
      "1.f. 0.9993714644877436\n",
      "1.g. 0.0006285355122564425\n",
      "1.h. 0.17019510170195098\n",
      "1.i. 0.8298048982980489\n"
     ]
    }
   ],
   "source": [
    "# 1.f. H | E = ppv = 1-fdr\n",
    "# 1.g. Hc | E = fdr\n",
    "# 1.h. H | Ec = forr = 1-npv\n",
    "# 1.i. Hc | Ec = npv\n",
    "\n",
    "print(\"1.f.\", ppv)\n",
    "print(\"1.g.\", fdr)\n",
    "print(\"1.h.\", forr)\n",
    "print(\"1.i.\", npv)"
   ]
  },
  {
   "cell_type": "code",
   "execution_count": 57,
   "metadata": {},
   "outputs": [
    {
     "name": "stdout",
     "output_type": "stream",
     "text": [
      "1.j. pE 0.0005511903455284554\n",
      "1.k. pEc 0.9994488096544716\n"
     ]
    }
   ],
   "source": [
    "print(\"1.j. pE\", pE)\n",
    "print(\"1.k. pEc\", pEc)"
   ]
  },
  {
   "cell_type": "code",
   "execution_count": 58,
   "metadata": {},
   "outputs": [
    {
     "name": "stdout",
     "output_type": "stream",
     "text": [
      "1.l. 0.8972500000000001\n"
     ]
    }
   ],
   "source": [
    "print(\"1.l.\", acc)"
   ]
  },
  {
   "cell_type": "markdown",
   "metadata": {},
   "source": [
    "> Festival"
   ]
  },
  {
   "cell_type": "code",
   "execution_count": 59,
   "metadata": {},
   "outputs": [
    {
     "name": "stdout",
     "output_type": "stream",
     "text": [
      "11. minimal 1 orang COVID = 1.0\n"
     ]
    }
   ],
   "source": [
    "from scipy.stats import binom\n",
    "\n",
    "# dik:\n",
    "'''USAGE'''\n",
    "pengunjung = 1035\n",
    "# P(X>=1) = 1 - F(x-1)\n",
    "x = 1\n",
    "\n",
    "print(\"11. minimal 1 orang COVID =\", 1-binom.pmf(x-1, pengunjung, pH))"
   ]
  },
  {
   "cell_type": "markdown",
   "metadata": {},
   "source": [
    "> Case Fatality Rate"
   ]
  },
  {
   "cell_type": "code",
   "execution_count": 6,
   "metadata": {},
   "outputs": [
    {
     "data": {
      "text/plain": [
       "2.3470469720101174e-33"
      ]
     },
     "execution_count": 6,
     "metadata": {},
     "output_type": "execute_result"
    }
   ],
   "source": [
    "from scipy.stats import binom\n",
    "'''USAGE'''\n",
    "cfr = 0.0043\n",
    "terpapar = 17435\n",
    "meninggal = 0\n",
    "\n",
    "# probabilitas meninggal: f(meninggal)\n",
    "binom.pmf(meninggal, terpapar, cfr)"
   ]
  }
 ],
 "metadata": {
  "kernelspec": {
   "display_name": "Python 3",
   "language": "python",
   "name": "python3"
  },
  "language_info": {
   "codemirror_mode": {
    "name": "ipython",
    "version": 3
   },
   "file_extension": ".py",
   "mimetype": "text/x-python",
   "name": "python",
   "nbconvert_exporter": "python",
   "pygments_lexer": "ipython3",
   "version": "3.10.5"
  }
 },
 "nbformat": 4,
 "nbformat_minor": 2
}
