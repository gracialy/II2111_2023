{
 "cells": [
  {
   "cell_type": "markdown",
   "metadata": {},
   "source": [
    "# BINOMIAL\n",
    "> Sistem komunikasi"
   ]
  },
  {
   "cell_type": "code",
   "execution_count": 1,
   "metadata": {},
   "outputs": [],
   "source": [
    "from scipy.stats import binom\n",
    "# dik:\n",
    "'''USAGE'''\n",
    "\n",
    "p = 0.6\n",
    "n = 9\n",
    "\n",
    "q = 1-p"
   ]
  },
  {
   "cell_type": "markdown",
   "metadata": {},
   "source": [
    "```CDF: F(x)```\n",
    "\n",
    "```PMF: f(x)```"
   ]
  },
  {
   "cell_type": "code",
   "execution_count": 2,
   "metadata": {},
   "outputs": [
    {
     "name": "stdout",
     "output_type": "stream",
     "text": [
      "   x        fx        Fx       xfx  x2      x2fx\n",
      "0  0  0.000262  0.000262  0.000000   0  0.000000\n",
      "1  1  0.003539  0.003801  0.003539   1  0.003539\n",
      "2  2  0.021234  0.025035  0.042467   4  0.084935\n",
      "3  3  0.074318  0.099353  0.222953   9  0.668860\n",
      "4  4  0.167215  0.266568  0.668860  16  2.675442\n",
      "5  5  0.250823  0.517390  1.254113  25  6.270566\n",
      "6  6  0.250823  0.768213  1.504936  36  9.029616\n",
      "7  7  0.161243  0.929456  1.128702  49  7.900914\n",
      "8  8  0.060466  0.989922  0.483729  64  3.869835\n",
      "9  9  0.010078  1.000000  0.090699  81  0.816293 \n",
      "\n",
      "EX: 5.400000000000001\n",
      "EX2: 31.320000000000004\n",
      "varX: 2.1599999999999895\n",
      "modus_x: [5]\n",
      "\n"
     ]
    }
   ],
   "source": [
    "# Binomial Overview\n",
    "from math import comb\n",
    "import pandas as pd\n",
    "\n",
    "def binom_pmf(x, n, p):\n",
    "    return comb(n, x) * p**x * (1-p) ** (n-x)\n",
    "\n",
    "# nilai random variable\n",
    "x_list = [i for i in range (n+1)]\n",
    "fx = [binom_pmf(x, n, p) for x in x_list]\n",
    "\n",
    "''''''\n",
    "# USAGE\n",
    "# Keuntungan yang diharapkan\n",
    "# x_list = [100, 50, 10]\n",
    "# fx = [0.3, 0.36, 0.1]\n",
    "\n",
    "# make table of x and fx column\n",
    "tabel_fx = pd.DataFrame({'x': x_list,\n",
    "                        'fx': fx})\n",
    "# add Fx column\n",
    "tabel_fx['Fx'] = tabel_fx['fx'].cumsum()\n",
    "# add xfx column\n",
    "tabel_fx['xfx'] = tabel_fx['x'] * tabel_fx['fx']\n",
    "# add x2 column\n",
    "tabel_fx['x2'] = tabel_fx['x'] ** 2\n",
    "# add x2fx\n",
    "tabel_fx['x2fx'] = tabel_fx['x2'] * tabel_fx['fx']\n",
    "\n",
    "\n",
    "EX = tabel_fx['xfx'].sum()\n",
    "EX2 = tabel_fx['x2fx'].sum()\n",
    "varX = EX2 - (EX) ** 2\n",
    "\n",
    "max_fx = tabel_fx['fx'].max()\n",
    "modus_x = tabel_fx.loc[tabel_fx['fx'] == max_fx, 'x'].values\n",
    "# only continuous has median\n",
    "\n",
    "print(tabel_fx, \"\\n\")\n",
    "print(f\"EX: {EX}\")\n",
    "print(f\"EX2: {EX2}\")\n",
    "print(f\"varX: {varX}\")\n",
    "print(f\"modus_x: {modus_x}\\n\")"
   ]
  },
  {
   "cell_type": "code",
   "execution_count": 3,
   "metadata": {},
   "outputs": [
    {
     "data": {
      "text/plain": [
       "0.216"
      ]
     },
     "execution_count": 3,
     "metadata": {},
     "output_type": "execute_result"
    }
   ],
   "source": [
    "# 1-2\n",
    "\n",
    "import math\n",
    "p1to3 = p * p * p # a ON * b ON * d ON\n",
    "p1to3"
   ]
  },
  {
   "cell_type": "code",
   "execution_count": 4,
   "metadata": {},
   "outputs": [
    {
     "data": {
      "text/plain": [
       "0.1296"
      ]
     },
     "execution_count": 4,
     "metadata": {},
     "output_type": "execute_result"
    }
   ],
   "source": [
    "# 1 2 dan 3 terhubung satu sama lain\n",
    "\n",
    "p123 = p * p * p *p # A ON * B ON * C ON * D ON\n",
    "p123"
   ]
  },
  {
   "cell_type": "code",
   "execution_count": 5,
   "metadata": {},
   "outputs": [
    {
     "data": {
      "text/plain": [
       "0.12628224"
      ]
     },
     "execution_count": 5,
     "metadata": {},
     "output_type": "execute_result"
    }
   ],
   "source": [
    "# c\n",
    "# 2 - 3 - server\n",
    "\n",
    "# B ON * C ON * D ON * (X>=1 ON = 1-f(0)) * I ON\n",
    "p23s = p * p * p * p * (1-binom.pmf(0, 4, p))\n",
    "p23s"
   ]
  },
  {
   "cell_type": "code",
   "execution_count": 6,
   "metadata": {},
   "outputs": [
    {
     "data": {
      "text/plain": [
       "0.4166666666666667"
      ]
     },
     "execution_count": 6,
     "metadata": {},
     "output_type": "execute_result"
    }
   ],
   "source": [
    "# d\n",
    "import math\n",
    "\n",
    "# dipastikan n ON dan nc OFF -> tidak perlu p dan q\n",
    "\n",
    "# P(3tos ON | 6 ON) = n favorable / n(5)\n",
    "bekerja = n-3\n",
    "nkerja = math.comb(n, bekerja)\n",
    "\n",
    "# 3tos favorable | x=5\n",
    "# (1)   (2)   (3)   (4)   (5)   (6)\n",
    "# D     ~      ~    ~     ~      I  \n",
    "\n",
    "# [n..1] from EFGH, nc from ABC\n",
    "any_1 = comb(4, 4) * comb(3, 0)\n",
    "any_2 = comb(4, 3) * comb(3, 1)\n",
    "any_3 = comb(4, 2) * comb(3, 2)\n",
    "any_4 = comb(4, 1) * comb(3, 3)\n",
    "sum_any = any_1 + any_2 + any_3 + any_4\n",
    "(sum_any)/nkerja"
   ]
  },
  {
   "cell_type": "code",
   "execution_count": 8,
   "metadata": {},
   "outputs": [
    {
     "data": {
      "text/plain": [
       "0.5833333333333334"
      ]
     },
     "execution_count": 8,
     "metadata": {},
     "output_type": "execute_result"
    }
   ],
   "source": [
    "# e\n",
    "from math import comb\n",
    "# P(3tos ON | 6 ON) = n favorable / n(5)\n",
    "bekerja = n-2\n",
    "nkerja = math.comb(n, bekerja)\n",
    "\n",
    "# 3tos favorable | x=5\n",
    "# (1)   (2)   (3)   (4)   (5)   (6)    (7)\n",
    "# D     ~      ~    ~     ~      ~      I  \n",
    "\n",
    "# [n..1] from EFGH, nc from ABC\n",
    "any_1 = comb(4, 4) * comb(3, 1)\n",
    "any_2 = comb(4, 3) * comb(3, 2)\n",
    "any_3 = comb(4, 2) * comb(3, 3)\n",
    "sum_any = any_1 + any_2 + any_3\n",
    "(sum_any)/nkerja"
   ]
  },
  {
   "cell_type": "code",
   "execution_count": 20,
   "metadata": {},
   "outputs": [
    {
     "name": "stdout",
     "output_type": "stream",
     "text": [
      "favorable:  20\n",
      "semesta:  84\n",
      "0.23809523809523808\n"
     ]
    }
   ],
   "source": [
    "# Rafly brute force\n",
    "favorab = 0\n",
    "semesta = 0\n",
    "temp = 0\n",
    "n = 9\n",
    "for a in range(2):\n",
    "  for b in range(2):\n",
    "    for c in range(2):\n",
    "      for d in range(2):\n",
    "        for e in range(2):\n",
    "          for f in range(2):\n",
    "            for g in range(2):\n",
    "              for h in range(2):\n",
    "                for i in range(2):\n",
    "                  total = a + b + c + d + e + f + g + h + i\n",
    "                  if total == 6:\n",
    "                    semesta += 1\n",
    "                    tersambung = (a and c and i) and (e or f or g or h)\n",
    "                    if tersambung:\n",
    "                      favorab += 1\n",
    "                      # temp += p ** total * (1-p) ** (n - total)\n",
    "\n",
    "print(\"favorable: \", favorab)\n",
    "print(\"semesta: \", semesta)\n",
    "print(favorab/semesta)"
   ]
  }
 ],
 "metadata": {
  "kernelspec": {
   "display_name": "Python 3",
   "language": "python",
   "name": "python3"
  },
  "language_info": {
   "codemirror_mode": {
    "name": "ipython",
    "version": 3
   },
   "file_extension": ".py",
   "mimetype": "text/x-python",
   "name": "python",
   "nbconvert_exporter": "python",
   "pygments_lexer": "ipython3",
   "version": "3.10.5"
  }
 },
 "nbformat": 4,
 "nbformat_minor": 2
}
