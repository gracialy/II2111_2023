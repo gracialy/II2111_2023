{
 "cells": [
  {
   "cell_type": "markdown",
   "metadata": {},
   "source": [
    "# BINOMIAL WITHIN BINOMIAL\n",
    "> Transmisi Paket"
   ]
  },
  {
   "cell_type": "code",
   "execution_count": 2,
   "metadata": {},
   "outputs": [],
   "source": [
    "from scipy.stats import binom\n",
    "'''USAGE'''\n",
    "n = 1024 # jumlah bit\n",
    "p = 0.050 # P(error)\n",
    "max_error = 17 # max bit error\n",
    "\n",
    "q=1-p"
   ]
  },
  {
   "cell_type": "markdown",
   "metadata": {},
   "source": [
    "```CDF: F(x)```\n",
    "\n",
    "```PMF: f(x)```"
   ]
  },
  {
   "cell_type": "code",
   "execution_count": 3,
   "metadata": {},
   "outputs": [
    {
     "name": "stdout",
     "output_type": "stream",
     "text": [
      "P(paket benar) = F(17) = 1.5088778490224814e-08\n"
     ]
    }
   ],
   "source": [
    "# X: jumlah bit error\n",
    "# X ~ binom (n, p)\n",
    "\n",
    "# P(benar) = P(X<=5)\n",
    "p_benar = binom.cdf(max_error, n, p)\n",
    "print(f\"P(paket benar) = F({max_error}) =\", p_benar)"
   ]
  },
  {
   "cell_type": "code",
   "execution_count": 4,
   "metadata": {},
   "outputs": [
    {
     "name": "stdout",
     "output_type": "stream",
     "text": [
      "b. EX = 51.2\n"
     ]
    }
   ],
   "source": [
    "EX = n * p\n",
    "print(f\"b. EX =\", EX)"
   ]
  },
  {
   "cell_type": "code",
   "execution_count": 5,
   "metadata": {},
   "outputs": [
    {
     "name": "stdout",
     "output_type": "stream",
     "text": [
      "c. varX = 48.64\n"
     ]
    }
   ],
   "source": [
    "varX = n * p * q\n",
    "print(f\"c. varX =\", varX)"
   ]
  },
  {
   "cell_type": "code",
   "execution_count": 6,
   "metadata": {},
   "outputs": [
    {
     "name": "stdout",
     "output_type": "stream",
     "text": [
      "d. f(70) = 0.0\n"
     ]
    }
   ],
   "source": [
    "# P: jumlah paket benar\n",
    "# P ~ binom (jumlah_paket, p_benar)\n",
    "\n",
    "'''USAGE'''\n",
    "jumlah_paket = 70\n",
    "\n",
    "print(f\"d. f({jumlah_paket}) =\", binom.pmf(jumlah_paket, jumlah_paket, p_benar))"
   ]
  },
  {
   "cell_type": "code",
   "execution_count": 8,
   "metadata": {},
   "outputs": [
    {
     "data": {
      "text/plain": [
       "1.0562144783787505e-06"
      ]
     },
     "execution_count": 8,
     "metadata": {},
     "output_type": "execute_result"
    }
   ],
   "source": [
    "# P: jumlah paket benar\n",
    "# P ~ binom (jumlah_paket, p_benar)\n",
    "\n",
    "'''USAGE'''\n",
    "jumlah_paket = 70\n",
    "q_salah = 1-p_benar\n",
    "\n",
    "var = jumlah_paket * q_salah * p_benar\n",
    "var\n"
   ]
  }
 ],
 "metadata": {
  "kernelspec": {
   "display_name": "Python 3",
   "language": "python",
   "name": "python3"
  },
  "language_info": {
   "codemirror_mode": {
    "name": "ipython",
    "version": 3
   },
   "file_extension": ".py",
   "mimetype": "text/x-python",
   "name": "python",
   "nbconvert_exporter": "python",
   "pygments_lexer": "ipython3",
   "version": "3.10.5"
  }
 },
 "nbformat": 4,
 "nbformat_minor": 2
}
