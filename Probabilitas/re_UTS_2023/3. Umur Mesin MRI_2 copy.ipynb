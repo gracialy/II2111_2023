{
 "cells": [
  {
   "cell_type": "markdown",
   "metadata": {},
   "source": [
    "# NORMAL\n",
    "> Tegangan dan Daya"
   ]
  },
  {
   "cell_type": "code",
   "execution_count": 5,
   "metadata": {},
   "outputs": [],
   "source": [
    "from scipy.stats import norm\n",
    "# V ~ Normal (mean, stdev)\n",
    "\n",
    "'''USAGE'''\n",
    "# ABC\n",
    "mean =  31500\n",
    "stdev =  2000\n",
    "\n",
    "varV = stdev**2\n",
    "EV = mean"
   ]
  },
  {
   "cell_type": "code",
   "execution_count": 6,
   "metadata": {},
   "outputs": [
    {
     "name": "stdout",
     "output_type": "stream",
     "text": [
      "F(31000)-F(27000) = 0.3890692016620316\n"
     ]
    }
   ],
   "source": [
    "\n",
    "'''USAGE'''\n",
    "lower_bound = 27000\n",
    "upper_bound = 31000\n",
    "\n",
    "print(f\"F({upper_bound})-F({lower_bound}) =\", norm.cdf(upper_bound, loc=mean, scale=stdev) - norm.cdf(lower_bound, loc=mean, scale=stdev))"
   ]
  },
  {
   "cell_type": "code",
   "execution_count": 3,
   "metadata": {},
   "outputs": [
    {
     "name": "stdout",
     "output_type": "stream",
     "text": [
      "24a. F(25000)-F(0) = 0.3149623135705628\n"
     ]
    }
   ],
   "source": [
    "\n",
    "'''USAGE'''\n",
    "lower_bound = 0\n",
    "upper_bound = 25000\n",
    "\n",
    "print(f\"24a. F({upper_bound})-F({lower_bound}) =\", norm.cdf(upper_bound, loc=mean, scale=stdev) - norm.cdf(lower_bound, loc=mean, scale=stdev))"
   ]
  }
 ],
 "metadata": {
  "kernelspec": {
   "display_name": "Python 3",
   "language": "python",
   "name": "python3"
  },
  "language_info": {
   "codemirror_mode": {
    "name": "ipython",
    "version": 3
   },
   "file_extension": ".py",
   "mimetype": "text/x-python",
   "name": "python",
   "nbconvert_exporter": "python",
   "pygments_lexer": "ipython3",
   "version": "3.10.5"
  }
 },
 "nbformat": 4,
 "nbformat_minor": 2
}
