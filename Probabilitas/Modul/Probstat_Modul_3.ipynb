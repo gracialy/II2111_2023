{
  "cells": [
    {
      "cell_type": "markdown",
      "metadata": {
        "id": "F9_5Yv_4ZR_Y"
      },
      "source": [
        "Template Probabilitas"
      ]
    },
    {
      "cell_type": "markdown",
      "metadata": {
        "id": "ZdgvVcVWZzr7"
      },
      "source": [
        "Modul 3"
      ]
    },
    {
      "cell_type": "code",
      "execution_count": null,
      "metadata": {},
      "outputs": [],
      "source": [
        "# H: actual positive (kasus)\n",
        "# E: predicted positive\n",
        "\n",
        "# TP: H  n E\n",
        "# FP: Hc n E\n",
        "# FN: H  n Ec\n",
        "# TN: Hc n Ec"
      ]
    },
    {
      "cell_type": "code",
      "execution_count": 4,
      "metadata": {},
      "outputs": [
        {
          "name": "stdout",
          "output_type": "stream",
          "text": [
            "prevalensi: pH = 0.09230769230769231\n",
            "positive rate: pE = -0.0007692307692307692\n"
          ]
        }
      ],
      "source": [
        "# USAGE\n",
        "semesta = 1300\n",
        "H = 120 \n",
        "E = -1\n",
        "\n",
        "pH = H/semesta\n",
        "pHc = (semesta-H)/semesta\n",
        "pE = E/semesta\n",
        "pEc = (semesta-E)/semesta\n",
        "\n",
        "print(\"prevalensi: pH =\", pH)\n",
        "print(\"positive rate: pE =\", pE)"
      ]
    },
    {
      "cell_type": "code",
      "execution_count": 1,
      "metadata": {
        "colab": {
          "base_uri": "https://localhost:8080/"
        },
        "id": "RVrPG7MV48zV",
        "outputId": "74ae6306-7ddf-415b-da7e-912e9b157557"
      },
      "outputs": [
        {
          "name": "stdout",
          "output_type": "stream",
          "text": [
            "E|H: TPR, recall, sensitivity tpr = 0.9090909090909091\n",
            "tpr = 0.9090909090909091\n",
            "tnr = 0.8695652173913043\n",
            "tpr = 0.13043478260869565\n",
            "fnr = 0.09090909090909091\n",
            "ppv = 0.4\n",
            "npv = 0.9900990099009901\n",
            "fdr = 0.6\n",
            "for = 0.009900990099009901\n",
            "acc = 0.873015873015873\n"
          ]
        }
      ],
      "source": [
        "# USAGE\n",
        "tp = 1000\n",
        "fp = 1500\n",
        "fn = 100\n",
        "tn = 10000\n",
        "\n",
        "# H = tp + fn\n",
        "# Hc = fp + tn\n",
        "# E = tp + fp\n",
        "# Ec = fn + tn\n",
        "# H + Hc + E + Ec = semesta\n",
        "\n",
        "# E|H: TPR, recall, sensitivity\n",
        "tpr = tp/(tp+fn)\n",
        "# Ec|H: FNR, miss rate\n",
        "fnr = fn/(tp+fn)\n",
        "\n",
        "# E|Hc: FPR, false alarm\n",
        "fpr = fp/(tn+fp)\n",
        "# Ec|Hc: TNR, specificity\n",
        "tnr = tn/(tn+fp)\n",
        "\n",
        "# H|E: PPV, precision\n",
        "ppv = tp/(tp+fp)\n",
        "# Hc|E: FDR\n",
        "fdr = fp/(tp+fp)\n",
        "\n",
        "# H|Ec: FOR\n",
        "forr = fn/(tn+fn)\n",
        "# Hc|Ec: NPV\n",
        "npv = tn/(tn+fn)\n",
        "\n",
        "# ACC\n",
        "acc = (tp+tn)/(tp+tn+fp+fn)\n",
        "\n",
        "# USAGE\n",
        "print(\"tpr =\", tpr)\n",
        "print(\"tnr =\", tnr)\n",
        "print(\"fpr =\", fpr)\n",
        "print(\"fnr =\", fnr)\n",
        "print(\"ppv =\", ppv)\n",
        "print(\"npv =\", npv)\n",
        "print(\"fdr =\", fdr)\n",
        "print(\"for =\", forr)\n",
        "print(\"acc =\", acc)"
      ]
    },
    {
      "cell_type": "code",
      "execution_count": null,
      "metadata": {
        "colab": {
          "base_uri": "https://localhost:8080/"
        },
        "id": "PefYGvs3Z1Lu",
        "outputId": "e05f467e-1758-4aa9-b50d-1caae1e9b5b7"
      },
      "outputs": [
        {
          "name": "stdout",
          "output_type": "stream",
          "text": [
            "0.897\n"
          ]
        }
      ],
      "source": [
        "# Teorema Bayes\n",
        "# P(H|E) = P(E|H) * P(H) / P(E)\n",
        "# P(H|E) = P(E|H) * P(H) / (P(E|H) * P(H) + P(E|Hc) * P(Hc))\n",
        "\n",
        "# p(E|H): TPR, recall, sensitivity\n",
        "# P(E|Hc): FPR, false alarm\n",
        "# USAGE\n",
        "tpr = 0.95\n",
        "fpr = 0.04\n",
        "\n",
        "# USAGE\n",
        "pH = 0.02\n",
        "pHc = 1 - pH\n",
        "\n",
        "# P(Ec|H): FNR, miss rate\n",
        "# P(Ec|Hc): TNR, specificity\n",
        "fnr = 1-tpr\n",
        "tnr = 1-fpr\n",
        "\n",
        "pEnH = tpr * pH\n",
        "pEnHc = fpr * pHc\n",
        "pE = pEnH + pEnHc\n",
        "\n",
        "pEcnHc = tnr * pHc\n",
        "\n",
        "# P(H|E): PPV, precsion (bayes)\n",
        "# P(Hc|E): FDR (bayesc)\n",
        "bayes = pEnH/pE\n",
        "bayesc = 1-bayes\n",
        "\n",
        "# P(H|Ec): FOR\n",
        "# P(Hc|Ec): NPV, PNV\n",
        "npv = tnr * (1-pH) / (1-pE)\n",
        "forr = 1-npv\n",
        "\n",
        "# ACC\n",
        "acc = pEnH + pEcnHc\n",
        "\n",
        "# USAGE\n",
        "print(acc)"
      ]
    },
    {
      "cell_type": "code",
      "execution_count": null,
      "metadata": {
        "colab": {
          "base_uri": "https://localhost:8080/"
        },
        "id": "g6ozGBRgHMFI",
        "outputId": "f51fba27-5bac-43f6-8d42-6d4eff43efbf"
      },
      "outputs": [
        {
          "name": "stdout",
          "output_type": "stream",
          "text": [
            "0.9943630214205186\n"
          ]
        }
      ],
      "source": [
        "atas = 0.9*0.98\n",
        "bawah = atas + 0.25*0.02\n",
        "print(atas/bawah)"
      ]
    }
  ],
  "metadata": {
    "colab": {
      "provenance": []
    },
    "kernelspec": {
      "display_name": "Python 3",
      "name": "python3"
    },
    "language_info": {
      "codemirror_mode": {
        "name": "ipython",
        "version": 3
      },
      "file_extension": ".py",
      "mimetype": "text/x-python",
      "name": "python",
      "nbconvert_exporter": "python",
      "pygments_lexer": "ipython3",
      "version": "3.10.5"
    }
  },
  "nbformat": 4,
  "nbformat_minor": 0
}
