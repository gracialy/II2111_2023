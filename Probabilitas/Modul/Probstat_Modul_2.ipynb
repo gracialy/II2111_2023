{
  "cells": [
    {
      "cell_type": "markdown",
      "metadata": {
        "id": "F9_5Yv_4ZR_Y"
      },
      "source": [
        "Template Probabilitas"
      ]
    },
    {
      "cell_type": "markdown",
      "metadata": {
        "id": "rkrnswX2Zxil"
      },
      "source": [
        "Modul 2"
      ]
    },
    {
      "cell_type": "code",
      "execution_count": null,
      "metadata": {
        "colab": {
          "base_uri": "https://localhost:8080/"
        },
        "id": "pz3bMokXxCFP",
        "outputId": "b27a049e-dd06-4499-d00a-6642ac09c0b3"
      },
      "outputs": [
        {
          "name": "stdout",
          "output_type": "stream",
          "text": [
            "17310309456440\n",
            "120\n"
          ]
        }
      ],
      "source": [
        "from math import perm, comb\n",
        "\n",
        "# comb: order doesn't matter\n",
        "# e.g.: router\n",
        "\n",
        "# perm: order matter\n",
        "# e.g.: password\n",
        "\n",
        "# USAGE\n",
        "print(comb (100,90))\n",
        "print(perm (6,3))"
      ]
    },
    {
      "cell_type": "code",
      "execution_count": null,
      "metadata": {
        "id": "Np55t_i5l-iC"
      },
      "outputs": [],
      "source": [
        "# USAGE\n",
        "\n",
        "# parallel - or\n",
        "# a + b - a*b\n",
        "p=0.9\n",
        "par = 2*p-p**2\n",
        "# series - and\n",
        "# a*b\n",
        "ser = p*p\n",
        "\n",
        "# USAGE"
      ]
    }
  ],
  "metadata": {
    "colab": {
      "provenance": []
    },
    "kernelspec": {
      "display_name": "Python 3",
      "name": "python3"
    },
    "language_info": {
      "name": "python"
    }
  },
  "nbformat": 4,
  "nbformat_minor": 0
}
