{
  "cells": [
    {
      "cell_type": "markdown",
      "metadata": {
        "id": "F9_5Yv_4ZR_Y"
      },
      "source": [
        "Template Probabilitas"
      ]
    },
    {
      "cell_type": "markdown",
      "metadata": {
        "id": "g2GpjAE0i04_"
      },
      "source": [
        "Modul 7\n",
        "Distribusi Bivariat\n",
        "-> INCOMPLETE CONTINUOUS"
      ]
    },
    {
      "cell_type": "code",
      "execution_count": 2,
      "metadata": {},
      "outputs": [
        {
          "name": "stdout",
          "output_type": "stream",
          "text": [
            "f(2, 3) = 0.09953279999999998\n"
          ]
        }
      ],
      "source": [
        "from scipy.stats import binom\n",
        "\n",
        "# f(x, y) = P(X=x, Y=y)\n",
        "# g(x) and h(y)\n",
        "\n",
        "# USAGE\n",
        "nx = 2\n",
        "sx = 3\n",
        "px = 0.9\n",
        "\n",
        "ny = 3\n",
        "sy = 4\n",
        "py = 0.8\n",
        "\n",
        "gx = binom.pmf(nx, sx, px)\n",
        "hy = binom.pmf(ny, sy, py)\n",
        "\n",
        "fxy = gx * hy\n",
        "print(f\"f({nx}, {ny}) = {fxy}\")"
      ]
    },
    {
      "cell_type": "code",
      "execution_count": null,
      "metadata": {},
      "outputs": [],
      "source": [
        "# Binomial Bivariates Overview\n",
        "from math import comb\n",
        "import pandas as pd\n",
        "\n",
        "def binom_pmf(x, n, p):\n",
        "    return comb(n, x) * p**x * (1-p) ** (n-x)\n",
        "\n",
        "# nilai random variable\n",
        "x_list = [i for i in range (n+1)]\n",
        "fx = [binom_pmf(x, n, p) for x in x_list]\n",
        "\n",
        "# USAGE\n",
        "# Keuntungan yang diharapkan\n",
        "# x_list = [100, 50, 10]\n",
        "# fx = [0.3, 0.36, 0.1]\n",
        "\n",
        "# make table of x and fx column\n",
        "tabel_fx = pd.DataFrame({'x': x_list,\n",
        "                        'fx': fx})\n",
        "# add Fx column\n",
        "tabel_fx['Fx'] = tabel_fx['fx'].cumsum()\n",
        "# add xfx column\n",
        "tabel_fx['xfx'] = tabel_fx['x'] * tabel_fx['fx']\n",
        "# add x2 column\n",
        "tabel_fx['x2'] = tabel_fx['x'] ** 2\n",
        "# add x2fx\n",
        "tabel_fx['x2fx'] = tabel_fx['x2'] * tabel_fx['fx']\n",
        "\n",
        "\n",
        "EX = tabel_fx['xfx'].sum()\n",
        "EX2 = tabel_fx['x2fx'].sum()\n",
        "varX = EX2 - (EX) ** 2\n",
        "\n",
        "max_fx = tabel_fx['fx'].max()\n",
        "modus_x = tabel_fx.loc[tabel_fx['fx'] == max_fx, 'x'].values\n",
        "# only continuous has median\n",
        "\n",
        "\n",
        "# ---\n",
        "y_list = [i for i in range (n+1)]; fy = [binom_pmf(y, n, q) for y in y_list]\n",
        "tabel_fy = pd.DataFrame({'y': y_list, 'fy': fy})\n",
        "tabel_fy['Fy'] = tabel_fy['fy'].cumsum()\n",
        "tabel_fy['yfy'] = tabel_fy['y'] * tabel_fy['fy']\n",
        "tabel_fy['y2'] = tabel_fy['y'] ** 2\n",
        "tabel_fy['y2fy'] = tabel_fy['y2'] * tabel_fy['fy']\n",
        "\n",
        "EY = tabel_fy['yfy'].sum()\n",
        "EY2 = tabel_fy['y2fy'].sum()\n",
        "varY = EY2 - (EY) ** 2\n",
        "max_fy = tabel_fy['fy'].max()\n",
        "modus_y = tabel_fy.loc[tabel_fy['fy'] == max_fy, 'y'].values\n",
        "# only continuous has median\n",
        "# ---\n",
        "\n",
        "print(tabel_fx, \"\\n\")\n",
        "print(f\"EX: {EX}\")\n",
        "print(f\"EX2: {EX2}\")\n",
        "print(f\"varX: {varX}\")\n",
        "print(f\"modus_x: {modus_x}\\n\")\n",
        "\n",
        "print(tabel_fy, \"\\n\")\n",
        "print(f\"EY: {EY}\")\n",
        "print(f\"EY2: {EY2}\")\n",
        "print(f\"varY: {varY}\")\n",
        "print(f\"modus_y: {modus_y}\\n\")"
      ]
    },
    {
      "cell_type": "code",
      "execution_count": null,
      "metadata": {},
      "outputs": [],
      "source": [
        "from scipy.stats import binom\n",
        "\n",
        "# moments\n",
        "# 1: mean\n",
        "# 2: variance\n",
        "\n",
        "# USAGE\n",
        "n = 3 # trials\n",
        "p = 0.9 # probability of success\n",
        "\n",
        "EX = binom.moment(1, n, p)\n",
        "EX"
      ]
    },
    {
      "cell_type": "code",
      "execution_count": null,
      "metadata": {},
      "outputs": [],
      "source": [
        "# kovariansi mengukur hubungan linear antar random variabel\n",
        "# koefisien korelasi menyesuaikan skala kovariansi terhadap standar definisi masing-masing random variabel\n",
        "\n",
        "# σ: kovariansi\n",
        "# ρ: koefisien korelasi\n",
        "\n",
        "# ρ mendekati 1: hubungan linear kuat\n",
        "# ρ mendekati 0: hubungan linear lemah/tidak ada\n",
        "# ρ mendekati -1: hubungan linear terbalik kuat"
      ]
    },
    {
      "cell_type": "code",
      "execution_count": 11,
      "metadata": {},
      "outputs": [
        {
          "name": "stdout",
          "output_type": "stream",
          "text": [
            "koefisien korelasi INDEPENDEN: ρxy = 0\n"
          ]
        }
      ],
      "source": [
        "ρxy = 0\n",
        "print(f\"koefisien korelasi INDEPENDEN: ρxy = {ρxy}\")"
      ]
    },
    {
      "cell_type": "code",
      "execution_count": null,
      "metadata": {},
      "outputs": [],
      "source": [
        "# RV Continuous"
      ]
    }
  ],
  "metadata": {
    "colab": {
      "provenance": []
    },
    "kernelspec": {
      "display_name": "Python 3",
      "name": "python3"
    },
    "language_info": {
      "codemirror_mode": {
        "name": "ipython",
        "version": 3
      },
      "file_extension": ".py",
      "mimetype": "text/x-python",
      "name": "python",
      "nbconvert_exporter": "python",
      "pygments_lexer": "ipython3",
      "version": "3.10.5"
    }
  },
  "nbformat": 4,
  "nbformat_minor": 0
}
