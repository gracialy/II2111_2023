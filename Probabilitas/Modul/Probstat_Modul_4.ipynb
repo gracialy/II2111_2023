{
  "cells": [
    {
      "cell_type": "markdown",
      "metadata": {
        "id": "F9_5Yv_4ZR_Y"
      },
      "source": [
        "Template Probabilitas"
      ]
    },
    {
      "cell_type": "markdown",
      "metadata": {
        "id": "g2GpjAE0i04_"
      },
      "source": [
        "Modul 4"
      ]
    },
    {
      "cell_type": "code",
      "execution_count": null,
      "metadata": {
        "id": "KI1avyfdi6w7"
      },
      "outputs": [],
      "source": [
        "# Discrete\n",
        "# - PMF (Probability Mass Function):\n",
        "#     f(x)=P(X=x)\n",
        "# - CDF (Cumulative Distribution Function):\n",
        "#     F(x)=P(X<=x)=Σf(x)\n",
        "\n",
        "# Continuous\n",
        "# - PDF (Probability Density Function):\n",
        "#     f(x)=P(X=x)\n",
        "# - CDF (Cumulative Distribution Function):\n",
        "#     F(x)=P(X=x)=(integral)(-inf to x) f(x)\n",
        "\n",
        "# Fungsi Probabilitas/Distribusi Probabilitas\n",
        "#   (x,fx)\n",
        "# Fungsi Distribusi Kumulatif\n",
        "#   Fx =  Σ (fx)\n",
        "# Expected Value/Mean: pusat distribusi probabilitas\n",
        "#   EX = Σ (x * fx)\n",
        "# Variansi/Standar Deviasi/Simpangan Baku: bentuk distribusi probabilitas\n",
        "#   σ**2 = Σ ((x-EX)**2 * fx) = EX2 - EX**2\n",
        "\n",
        "# Modus: x, fx max\n",
        "# Median: x, fx=0.5"
      ]
    },
    {
      "cell_type": "code",
      "execution_count": 1,
      "metadata": {
        "colab": {
          "base_uri": "https://localhost:8080/"
        },
        "id": "lZEVMIAdysdp",
        "outputId": "3feebdfe-e07c-4c17-9124-e716146dd468"
      },
      "outputs": [
        {
          "name": "stdout",
          "output_type": "stream",
          "text": [
            "fx =[9.999999999999989e-06, 0.0004499999999999996, 0.008099999999999996, 0.07289999999999998, 0.3280499999999999, 0.5904900000000001]\n",
            "\n",
            "   x       fx       Fx      xfx  x2      x2fx\n",
            "0  0  0.00001  0.00001  0.00000   0   0.00000\n",
            "1  1  0.00045  0.00046  0.00045   1   0.00045\n",
            "2  2  0.00810  0.00856  0.01620   4   0.03240\n",
            "3  3  0.07290  0.08146  0.21870   9   0.65610\n",
            "4  4  0.32805  0.40951  1.31220  16   5.24880\n",
            "5  5  0.59049  1.00000  2.95245  25  14.76225\n",
            "\n",
            "EX: 4.5\n",
            "EX2: 20.7\n",
            "varX: 0.4499999999999993\n",
            "modus: [5]\n",
            "\n"
          ]
        }
      ],
      "source": [
        "# Binomial\n",
        "from math import comb\n",
        "import pandas as pd\n",
        "\n",
        "def binom_pmf(x, n, p):\n",
        "    return comb(n, x) * p**x * (1-p) ** (n-x)\n",
        "\n",
        "# USAGE\n",
        "# jumlah eksperimen\n",
        "n = 5\n",
        "# peluang\n",
        "p = 0.9\n",
        "\n",
        "# nilai random variable\n",
        "x_list = [i for i in range (n+1)]\n",
        "fx = [binom_pmf(x, n, p) for x in x_list]\n",
        "\n",
        "# USAGE\n",
        "# Keuntungan yang diharapkan\n",
        "# x_list = [100, 50, 10]\n",
        "# fx = [0.3, 0.36, 0.1]\n",
        "\n",
        "# make table of x and fx column\n",
        "tabel_fx = pd.DataFrame({'x': x_list,\n",
        "                        'fx': fx})\n",
        "# add Fx column\n",
        "tabel_fx['Fx'] = tabel_fx['fx'].cumsum()\n",
        "# add xfx column\n",
        "tabel_fx['xfx'] = tabel_fx['x'] * tabel_fx['fx']\n",
        "# add x2 column\n",
        "tabel_fx['x2'] = tabel_fx['x'] ** 2\n",
        "# add x2fx\n",
        "tabel_fx['x2fx'] = tabel_fx['x2'] * tabel_fx['fx']\n",
        "\n",
        "\n",
        "EX = tabel_fx['xfx'].sum()\n",
        "EX2 = tabel_fx['x2fx'].sum()\n",
        "varX = EX2 - (EX) ** 2\n",
        "\n",
        "max_fx = tabel_fx['fx'].max()\n",
        "modus = tabel_fx.loc[tabel_fx['fx'] == max_fx, 'x'].values\n",
        "# only continuous has median\n",
        "\n",
        "print(f\"fx ={fx}\")\n",
        "print()\n",
        "print(tabel_fx)\n",
        "print()\n",
        "print(f\"EX: {EX}\")\n",
        "print(f\"EX2: {EX2}\")\n",
        "print(f\"varX: {varX}\")\n",
        "print(f\"modus: {modus}\")\n",
        "print()"
      ]
    },
    {
      "cell_type": "code",
      "execution_count": null,
      "metadata": {
        "colab": {
          "base_uri": "https://localhost:8080/"
        },
        "id": "imZTCkOXJ55H",
        "outputId": "f0f827b5-59e2-45d0-a726-cfe8b965295c"
      },
      "outputs": [
        {
          "data": {
            "text/plain": [
              "0.7666666666666666"
            ]
          },
          "execution_count": 7,
          "metadata": {},
          "output_type": "execute_result"
        }
      ],
      "source": [
        "1-(6*7/180)"
      ]
    },
    {
      "cell_type": "code",
      "execution_count": null,
      "metadata": {
        "colab": {
          "base_uri": "https://localhost:8080/"
        },
        "id": "Ao2ZIseI2c2T",
        "outputId": "579cfc78-7a6e-47ad-d69b-b05f1e23fd8f"
      },
      "outputs": [
        {
          "name": "stdout",
          "output_type": "stream",
          "text": [
            "EX: 20.0\n",
            "varX: 19.6\n",
            "F(25): 1.1293848786315641\n",
            "1.1293848786315641\n"
          ]
        }
      ],
      "source": [
        "# Binomial Shorthand\n",
        "# USAGE\n",
        "# jumlah eksperimen\n",
        "n = 1000\n",
        "# peluang\n",
        "p = 0.02\n",
        "# kumulatif\n",
        "x = 25\n",
        "\n",
        "def Z(x):\n",
        "  global EX, σ\n",
        "  return (x-EX)/σ\n",
        "\n",
        "EX = n*p\n",
        "varX = n*p*(1-p)\n",
        "# σ = varX**0.5\n",
        "\n",
        "print(f\"EX: {EX}\")\n",
        "print(f\"varX: {varX}\")"
      ]
    },
    {
      "cell_type": "code",
      "execution_count": null,
      "metadata": {
        "colab": {
          "base_uri": "https://localhost:8080/"
        },
        "id": "h3NQCZ7XFp4M",
        "outputId": "41e7bac9-d9a8-44ae-bcff-5079ae8ae1a9"
      },
      "outputs": [
        {
          "name": "stdout",
          "output_type": "stream",
          "text": [
            "0.233333333333333\n",
            "EX: 8500.00000000000\n",
            "varX: 749999.999999970\n",
            "median: [8500.00000000000], proof: 0.500000000000000\n"
          ]
        }
      ],
      "source": [
        "# Uniform\n",
        "import matplotlib.pyplot as plt\n",
        "import numpy as np\n",
        "import sympy as sy\n",
        "\n",
        "# Define the mkfx class\n",
        "class mkfx:\n",
        "    def __init__(self, min_value, max_value):\n",
        "        self.min = min_value\n",
        "        self.max = max_value\n",
        "\n",
        "    def functfx(self):\n",
        "        return 1 / (self.max - self.min)\n",
        "\n",
        "def F(top):\n",
        "  global fx, my_mkfx\n",
        "\n",
        "  x = sy.Symbol(\"x\")\n",
        "  return sy.integrate(fx, (x, my_mkfx.min, top))\n",
        "\n",
        "# USAGE (Uniform)\n",
        "max = 10000\n",
        "min = 7000\n",
        "\n",
        "# Create an instance of mkfx\n",
        "my_mkfx = mkfx(min, max)\n",
        "# Call the functfx method on the instance\n",
        "fx = my_mkfx.functfx()\n",
        "\n",
        "x = sy.Symbol(\"x\")\n",
        "EX = sy.integrate(x*fx, (x, my_mkfx.min, my_mkfx.max))\n",
        "EX2 = sy.integrate(x**2*fx, (x, my_mkfx.min, my_mkfx.max))\n",
        "varX = EX2 - EX**2\n",
        "\n",
        "x = sy.Symbol(\"x\")\n",
        "eq = sy.Eq(F(x), 0.5)\n",
        "median = sy.solve(eq,x)\n",
        "\n",
        "# USAGE (Uniform)\n",
        "# P(A to B) = F(B)-F(A)\n",
        "print(F(8200)-F(7500))\n",
        "print(f\"EX: {EX}\")\n",
        "print(f\"varX: {varX}\")\n",
        "print(f\"median: {median}, proof: {F(median)}\")"
      ]
    },
    {
      "cell_type": "code",
      "execution_count": null,
      "metadata": {
        "colab": {
          "base_uri": "https://localhost:8080/"
        },
        "id": "S3fCebs4t8jq",
        "outputId": "048a72e8-075d-4f91-b1c1-92a0f2fb9ac8"
      },
      "outputs": [
        {
          "name": "stdout",
          "output_type": "stream",
          "text": [
            "350.0\n",
            "EX: 10.0\n",
            "varX: 0.3333333333333333\n"
          ]
        }
      ],
      "source": [
        "# Uniform Shorthand\n",
        "# USAGE\n",
        "max = 11\n",
        "min = 9\n",
        "\n",
        "fx = 1/(max-min)\n",
        "EX = (max+min)/2\n",
        "varX = (max-min)**2/12\n",
        "\n",
        "# USAGE\n",
        "# P(A to B) = F(B)-F(A)\n",
        "print((8200-7500)*fx)\n",
        "print(f\"EX: {EX}\")\n",
        "print(f\"varX: {varX}\")"
      ]
    },
    {
      "cell_type": "code",
      "execution_count": null,
      "metadata": {
        "colab": {
          "base_uri": "https://localhost:8080/"
        },
        "id": "0CfaBEBp9rDK",
        "outputId": "bf229b52-fc8d-4a7b-fb21-2b1349e22e0f"
      },
      "outputs": [
        {
          "name": "stdout",
          "output_type": "stream",
          "text": [
            "0.3333333333333333\n"
          ]
        }
      ],
      "source": [
        "# Uniform\n",
        "# Waiting Time\n",
        "\n",
        "# USAGE\n",
        "min = 0\n",
        "max = 60\n",
        "interval = 15\n",
        "\n",
        "n = (max-min)/interval\n",
        "fx = 1/(max-min)\n",
        "\n",
        "print(n*(5-0)*fx)"
      ]
    },
    {
      "cell_type": "code",
      "execution_count": null,
      "metadata": {
        "colab": {
          "base_uri": "https://localhost:8080/"
        },
        "id": "LB2YvGF45_MO",
        "outputId": "3d9cb938-fe21-43dd-bffc-c078d7fd10b6"
      },
      "outputs": [
        {
          "data": {
            "text/plain": [
              "0.984375"
            ]
          },
          "execution_count": 11,
          "metadata": {},
          "output_type": "execute_result"
        }
      ],
      "source": [
        "# Non-Uniform\n",
        "\n",
        "def f(x):\n",
        "  return 3/4 * (1/4)**x\n",
        "\n",
        "# find P\n",
        "# print((20-10)*fx1 + (50-20)*fx2)\n",
        "f(2)+f(1)+f(0)"
      ]
    },
    {
      "cell_type": "code",
      "execution_count": null,
      "metadata": {
        "colab": {
          "base_uri": "https://localhost:8080/",
          "height": 37
        },
        "id": "HvJkbiKBFXBT",
        "outputId": "31bcc431-15e5-42e9-9d93-8ea6fd312838"
      },
      "outputs": [
        {
          "data": {
            "text/latex": [
              "$\\displaystyle 0.75$"
            ],
            "text/plain": [
              "0.750000000000000"
            ]
          },
          "execution_count": 17,
          "metadata": {},
          "output_type": "execute_result"
        }
      ],
      "source": [
        "# integration\n",
        "def integral(fx, min, max):\n",
        "  x = sy.Symbol(\"x\")\n",
        "  return sy.integrate(fx, (x, min, max))\n",
        "\n",
        "# USAGE\n",
        "integral(x+3, -2.5, -2) + integral (3-x, 2, 2.5)"
      ]
    },
    {
      "cell_type": "code",
      "execution_count": null,
      "metadata": {
        "colab": {
          "base_uri": "https://localhost:8080/"
        },
        "id": "u2SFE9-DWki_",
        "outputId": "1ea3e20a-b82e-4643-fff8-9fa2d3b3fb5a"
      },
      "outputs": [
        {
          "data": {
            "text/plain": [
              "2.9000000000000004"
            ]
          },
          "execution_count": 13,
          "metadata": {},
          "output_type": "execute_result"
        }
      ],
      "source": [
        "import math\n",
        "0.2*8 + 0.04*(9**2-4**2)/2"
      ]
    }
  ],
  "metadata": {
    "colab": {
      "provenance": []
    },
    "kernelspec": {
      "display_name": "Python 3",
      "name": "python3"
    },
    "language_info": {
      "codemirror_mode": {
        "name": "ipython",
        "version": 3
      },
      "file_extension": ".py",
      "mimetype": "text/x-python",
      "name": "python",
      "nbconvert_exporter": "python",
      "pygments_lexer": "ipython3",
      "version": "3.10.5"
    }
  },
  "nbformat": 4,
  "nbformat_minor": 0
}
