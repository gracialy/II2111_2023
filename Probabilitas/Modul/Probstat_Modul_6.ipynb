{
  "cells": [
    {
      "cell_type": "markdown",
      "metadata": {
        "id": "F9_5Yv_4ZR_Y"
      },
      "source": [
        "Template Probabilitas"
      ]
    },
    {
      "cell_type": "markdown",
      "metadata": {
        "id": "g2GpjAE0i04_"
      },
      "source": [
        "Modul 6 # INCOMPLETE"
      ]
    },
    {
      "cell_type": "code",
      "execution_count": null,
      "metadata": {
        "id": "KI1avyfdi6w7"
      },
      "outputs": [],
      "source": [
        "# Discrete\n",
        "# - PMF (Probability Mass Function):\n",
        "#     f(x)=P(X=x)\n",
        "# - CDF (Cumulative Distribution Function):\n",
        "#     F(x)=P(X<=x)=Σf(x)\n",
        "\n",
        "# Continuous\n",
        "# - PDF (Probability Density Function):\n",
        "#     f(x)=P(X=x)\n",
        "# - CDF (Cumulative Distribution Function):\n",
        "#     F(x)=P(X=x)=(integral)(-inf to x) f(x)\n",
        "\n",
        "# Fungsi Probabilitas/Distribusi Probabilitas\n",
        "#   (x,fx)\n",
        "# Fungsi Distribusi Kumulatif\n",
        "#   Fx =  Σ (fx)\n",
        "# Expected Value/Mean: pusat distribusi probabilitas\n",
        "#   EX = Σ (x * fx)\n",
        "# Variansi/Standar Deviasi/Simpangan Baku: bentuk distribusi probabilitas\n",
        "#   σ**2 = Σ ((x-EX)**2 * fx) = EX2 - EX**2\n",
        "\n",
        "# Modus: x, fx max\n",
        "# Median: x, fx=0.5"
      ]
    },
    {
      "cell_type": "code",
      "execution_count": 18,
      "metadata": {
        "colab": {
          "base_uri": "https://localhost:8080/"
        },
        "id": "lZEVMIAdysdp",
        "outputId": "3feebdfe-e07c-4c17-9124-e716146dd468"
      },
      "outputs": [
        {
          "name": "stdout",
          "output_type": "stream",
          "text": [
            "fx =[0.996004, 0.003992, 4e-06]\n",
            "\n",
            "   x        fx        Fx       xfx  x2      x2fx\n",
            "0  0  0.996004  0.996004  0.000000   0  0.000000\n",
            "1  1  0.003992  0.999996  0.003992   1  0.003992\n",
            "2  2  0.000004  1.000000  0.000008   4  0.000016\n",
            "\n",
            "EX: 0.004\n",
            "EX2: 0.004008\n",
            "varX: 0.003992\n",
            "modus: [0]\n",
            "\n"
          ]
        }
      ],
      "source": [
        "# Binomial Data Table\n",
        "import pandas as pd\n",
        "from math import comb\n",
        "\n",
        "def binom_pmf(x, n, p):\n",
        "    return comb(n, x) * p**x * (1-p) ** (n-x)\n",
        "\n",
        "def binom_cdf(x, n, p):\n",
        "    cdf = 0\n",
        "    for i in range(x + 1):\n",
        "        cdf += binom_pmf(i, n, p)\n",
        "    return cdf\n",
        "\n",
        "# USAGE\n",
        "# jumlah eksperimen\n",
        "n = 2\n",
        "# peluang\n",
        "p = 0.002\n",
        "\n",
        "# nilai random variable\n",
        "x_list = [i for i in range (n+1)]\n",
        "fx = [binom_pmf(x, n, p) for x in x_list]\n",
        "\n",
        "# USAGE\n",
        "# Keuntungan yang diharapkan\n",
        "# x_list = [100, 50, 10]\n",
        "# fx = [0.3, 0.36, 0.1]\n",
        "\n",
        "# make table of x and fx column\n",
        "tabel_fx = pd.DataFrame({'x': x_list,\n",
        "                        'fx': fx})\n",
        "# add Fx column\n",
        "tabel_fx['Fx'] = tabel_fx['fx'].cumsum()\n",
        "# add xfx column\n",
        "tabel_fx['xfx'] = tabel_fx['x'] * tabel_fx['fx']\n",
        "# add x2 column\n",
        "tabel_fx['x2'] = tabel_fx['x'] ** 2\n",
        "# add x2fx\n",
        "tabel_fx['x2fx'] = tabel_fx['x2'] * tabel_fx['fx']\n",
        "\n",
        "\n",
        "EX = tabel_fx['xfx'].sum()\n",
        "EX2 = tabel_fx['x2fx'].sum()\n",
        "varX = EX2 - (EX) ** 2\n",
        "\n",
        "max_fx = tabel_fx['fx'].max()\n",
        "modus = tabel_fx.loc[tabel_fx['fx'] == max_fx, 'x'].values\n",
        "# only continuous has median\n",
        "\n",
        "print(f\"fx ={fx}\")\n",
        "print()\n",
        "print(tabel_fx)\n",
        "print()\n",
        "print(f\"EX: {EX}\")\n",
        "print(f\"EX2: {EX2}\")\n",
        "print(f\"varX: {varX}\")\n",
        "print(f\"modus: {modus}\")\n",
        "print()"
      ]
    },
    {
      "cell_type": "code",
      "execution_count": 1,
      "metadata": {},
      "outputs": [
        {
          "name": "stdout",
          "output_type": "stream",
          "text": [
            "f(3)=0.007564914689311557\n",
            "F(3)=0.010333402489842507\n",
            "1-F(3)=0.9896665975101575\n"
          ]
        },
        {
          "ename": "OverflowError",
          "evalue": "int too large to convert to float",
          "output_type": "error",
          "traceback": [
            "\u001b[1;31m---------------------------------------------------------------------------\u001b[0m",
            "\u001b[1;31mOverflowError\u001b[0m                             Traceback (most recent call last)",
            "\u001b[1;32mc:\\Users\\LENOVO\\Documents\\MyDocuments\\Code\\C_Files\\II2111\\Probstat_Modul_5.ipynb Cell 5\u001b[0m line \u001b[0;36m2\n\u001b[0;32m     <a href='vscode-notebook-cell:/c%3A/Users/LENOVO/Documents/MyDocuments/Code/C_Files/II2111/Probstat_Modul_5.ipynb#W4sZmlsZQ%3D%3D?line=24'>25</a>\u001b[0m \u001b[39mprint\u001b[39m(\u001b[39mf\u001b[39m\u001b[39m\"\u001b[39m\u001b[39mF(\u001b[39m\u001b[39m{\u001b[39;00mx\u001b[39m}\u001b[39;00m\u001b[39m)=\u001b[39m\u001b[39m{\u001b[39;00mbinom_cdf(x, n, p)\u001b[39m}\u001b[39;00m\u001b[39m\"\u001b[39m)\n\u001b[0;32m     <a href='vscode-notebook-cell:/c%3A/Users/LENOVO/Documents/MyDocuments/Code/C_Files/II2111/Probstat_Modul_5.ipynb#W4sZmlsZQ%3D%3D?line=25'>26</a>\u001b[0m \u001b[39mprint\u001b[39m(\u001b[39mf\u001b[39m\u001b[39m\"\u001b[39m\u001b[39m1-F(\u001b[39m\u001b[39m{\u001b[39;00mx\u001b[39m}\u001b[39;00m\u001b[39m)=\u001b[39m\u001b[39m{\u001b[39;00m\u001b[39m1\u001b[39m\u001b[39m-\u001b[39mbinom_cdf(x, n, p)\u001b[39m}\u001b[39;00m\u001b[39m\"\u001b[39m)\n\u001b[1;32m---> <a href='vscode-notebook-cell:/c%3A/Users/LENOVO/Documents/MyDocuments/Code/C_Files/II2111/Probstat_Modul_5.ipynb#W4sZmlsZQ%3D%3D?line=26'>27</a>\u001b[0m \u001b[39mprint\u001b[39m(\u001b[39mf\u001b[39m\u001b[39m\"\u001b[39m\u001b[39mF(\u001b[39m\u001b[39m{\u001b[39;00ma\u001b[39m}\u001b[39;00m\u001b[39m)-F(\u001b[39m\u001b[39m{\u001b[39;00mb\u001b[39m}\u001b[39;00m\u001b[39m)=\u001b[39m\u001b[39m{\u001b[39;00mbinom_cdf(a, n, p)\u001b[39m-\u001b[39mbinom_cdf(b, n, p)\u001b[39m}\u001b[39;00m\u001b[39m\"\u001b[39m)\n",
            "\u001b[1;32mc:\\Users\\LENOVO\\Documents\\MyDocuments\\Code\\C_Files\\II2111\\Probstat_Modul_5.ipynb Cell 5\u001b[0m line \u001b[0;36m1\n\u001b[0;32m     <a href='vscode-notebook-cell:/c%3A/Users/LENOVO/Documents/MyDocuments/Code/C_Files/II2111/Probstat_Modul_5.ipynb#W4sZmlsZQ%3D%3D?line=10'>11</a>\u001b[0m cdf \u001b[39m=\u001b[39m \u001b[39m0\u001b[39m\n\u001b[0;32m     <a href='vscode-notebook-cell:/c%3A/Users/LENOVO/Documents/MyDocuments/Code/C_Files/II2111/Probstat_Modul_5.ipynb#W4sZmlsZQ%3D%3D?line=11'>12</a>\u001b[0m \u001b[39mfor\u001b[39;00m i \u001b[39min\u001b[39;00m \u001b[39mrange\u001b[39m(x \u001b[39m+\u001b[39m \u001b[39m1\u001b[39m):\n\u001b[1;32m---> <a href='vscode-notebook-cell:/c%3A/Users/LENOVO/Documents/MyDocuments/Code/C_Files/II2111/Probstat_Modul_5.ipynb#W4sZmlsZQ%3D%3D?line=12'>13</a>\u001b[0m     cdf \u001b[39m+\u001b[39m\u001b[39m=\u001b[39m binom_pmf(i, n, p)\n\u001b[0;32m     <a href='vscode-notebook-cell:/c%3A/Users/LENOVO/Documents/MyDocuments/Code/C_Files/II2111/Probstat_Modul_5.ipynb#W4sZmlsZQ%3D%3D?line=13'>14</a>\u001b[0m \u001b[39mreturn\u001b[39;00m cdf\n",
            "\u001b[1;32mc:\\Users\\LENOVO\\Documents\\MyDocuments\\Code\\C_Files\\II2111\\Probstat_Modul_5.ipynb Cell 5\u001b[0m line \u001b[0;36m8\n\u001b[0;32m      <a href='vscode-notebook-cell:/c%3A/Users/LENOVO/Documents/MyDocuments/Code/C_Files/II2111/Probstat_Modul_5.ipynb#W4sZmlsZQ%3D%3D?line=6'>7</a>\u001b[0m \u001b[39mdef\u001b[39;00m \u001b[39mbinom_pmf\u001b[39m(x, n, p):\n\u001b[1;32m----> <a href='vscode-notebook-cell:/c%3A/Users/LENOVO/Documents/MyDocuments/Code/C_Files/II2111/Probstat_Modul_5.ipynb#W4sZmlsZQ%3D%3D?line=7'>8</a>\u001b[0m     \u001b[39mreturn\u001b[39;00m comb(n, x) \u001b[39m*\u001b[39;49m p\u001b[39m*\u001b[39;49m\u001b[39m*\u001b[39;49mx \u001b[39m*\u001b[39m (\u001b[39m1\u001b[39m\u001b[39m-\u001b[39mp) \u001b[39m*\u001b[39m\u001b[39m*\u001b[39m (n\u001b[39m-\u001b[39mx)\n",
            "\u001b[1;31mOverflowError\u001b[0m: int too large to convert to float"
          ]
        }
      ],
      "source": [
        "# Binomial Exact Value\n",
        "# get f(x)\n",
        "\n",
        "from math import comb\n",
        "import pandas as pd\n",
        "\n",
        "def binom_pmf(x, n, p):\n",
        "    return comb(n, x) * p**x * (1-p) ** (n-x)\n",
        "\n",
        "def binom_cdf(x, n, p):\n",
        "    cdf = 0\n",
        "    for i in range(x + 1):\n",
        "        cdf += binom_pmf(i, n, p)\n",
        "    return cdf\n",
        "\n",
        "# USAGE\n",
        "# jumlah eksperimen\n",
        "n = 100000\n",
        "# peluang\n",
        "p = 10**(-4)\n",
        "x = 3\n",
        "a = 100\n",
        "b = 14\n",
        "print(f\"f({x})={binom_pmf(x, n, p)}\")\n",
        "print(f\"F({x})={binom_cdf(x, n, p)}\")\n",
        "print(f\"1-F({x})={1-binom_cdf(x, n, p)}\")\n",
        "print(f\"F({a})-F({b})={binom_cdf(a, n, p)-binom_cdf(b, n, p)}\")"
      ]
    },
    {
      "cell_type": "code",
      "execution_count": 2,
      "metadata": {
        "colab": {
          "base_uri": "https://localhost:8080/"
        },
        "id": "Ao2ZIseI2c2T",
        "outputId": "579cfc78-7a6e-47ad-d69b-b05f1e23fd8f"
      },
      "outputs": [
        {
          "name": "stdout",
          "output_type": "stream",
          "text": [
            "EX: 10.0\n",
            "varX: 9.999\n"
          ]
        }
      ],
      "source": [
        "# Binomial Shorthand\n",
        "# USAGE\n",
        "# jumlah eksperimen\n",
        "n = 100000\n",
        "# peluang\n",
        "p = 10**(-4)\n",
        "# kumulatif\n",
        "x = 25\n",
        "\n",
        "def Z(x):\n",
        "  global EX, σ\n",
        "  return (x-EX)/σ\n",
        "\n",
        "EX = n*p\n",
        "varX = n*p*(1-p)\n",
        "# σ = varX**0.5\n",
        "\n",
        "print(f\"EX: {EX}\")\n",
        "print(f\"varX: {varX}\")"
      ]
    },
    {
      "cell_type": "code",
      "execution_count": null,
      "metadata": {
        "colab": {
          "base_uri": "https://localhost:8080/"
        },
        "id": "h3NQCZ7XFp4M",
        "outputId": "41e7bac9-d9a8-44ae-bcff-5079ae8ae1a9"
      },
      "outputs": [
        {
          "name": "stdout",
          "output_type": "stream",
          "text": [
            "0.233333333333333\n",
            "EX: 8500.00000000000\n",
            "varX: 749999.999999970\n",
            "median: [8500.00000000000], proof: 0.500000000000000\n"
          ]
        }
      ],
      "source": [
        "# Uniform\n",
        "import matplotlib.pyplot as plt\n",
        "import numpy as np\n",
        "import sympy as sy\n",
        "\n",
        "# Define the mkfx class\n",
        "class mkfx:\n",
        "    def __init__(self, min_value, max_value):\n",
        "        self.min = min_value\n",
        "        self.max = max_value\n",
        "\n",
        "    def functfx(self):\n",
        "        return 1 / (self.max - self.min)\n",
        "\n",
        "def F(top):\n",
        "  global fx, my_mkfx\n",
        "\n",
        "  x = sy.Symbol(\"x\")\n",
        "  return sy.integrate(fx, (x, my_mkfx.min, top))\n",
        "\n",
        "# USAGE (Uniform)\n",
        "max = 10000\n",
        "min = 7000\n",
        "\n",
        "# Create an instance of mkfx\n",
        "my_mkfx = mkfx(min, max)\n",
        "# Call the functfx method on the instance\n",
        "fx = my_mkfx.functfx()\n",
        "\n",
        "x = sy.Symbol(\"x\")\n",
        "EX = sy.integrate(x*fx, (x, my_mkfx.min, my_mkfx.max))\n",
        "EX2 = sy.integrate(x**2*fx, (x, my_mkfx.min, my_mkfx.max))\n",
        "varX = EX2 - EX**2\n",
        "\n",
        "x = sy.Symbol(\"x\")\n",
        "eq = sy.Eq(F(x), 0.5)\n",
        "median = sy.solve(eq,x)\n",
        "\n",
        "# USAGE (Uniform)\n",
        "# P(A to B) = F(B)-F(A)\n",
        "print(F(8200)-F(7500))\n",
        "print(f\"EX: {EX}\")\n",
        "print(f\"varX: {varX}\")\n",
        "print(f\"median: {median}, proof: {F(median)}\")"
      ]
    },
    {
      "cell_type": "code",
      "execution_count": null,
      "metadata": {
        "colab": {
          "base_uri": "https://localhost:8080/"
        },
        "id": "S3fCebs4t8jq",
        "outputId": "048a72e8-075d-4f91-b1c1-92a0f2fb9ac8"
      },
      "outputs": [
        {
          "name": "stdout",
          "output_type": "stream",
          "text": [
            "350.0\n",
            "EX: 10.0\n",
            "varX: 0.3333333333333333\n"
          ]
        }
      ],
      "source": [
        "# Uniform Shorthand\n",
        "# USAGE\n",
        "max = 11\n",
        "min = 9\n",
        "\n",
        "fx = 1/(max-min)\n",
        "EX = (max+min)/2\n",
        "varX = (max-min)**2/12\n",
        "\n",
        "# USAGE\n",
        "# P(A to B) = F(B)-F(A)\n",
        "print((8200-7500)*fx)\n",
        "print(f\"EX: {EX}\")\n",
        "print(f\"varX: {varX}\")"
      ]
    },
    {
      "cell_type": "code",
      "execution_count": null,
      "metadata": {
        "colab": {
          "base_uri": "https://localhost:8080/"
        },
        "id": "0CfaBEBp9rDK",
        "outputId": "bf229b52-fc8d-4a7b-fb21-2b1349e22e0f"
      },
      "outputs": [
        {
          "name": "stdout",
          "output_type": "stream",
          "text": [
            "0.3333333333333333\n"
          ]
        }
      ],
      "source": [
        "# Uniform\n",
        "# Waiting Time\n",
        "\n",
        "# USAGE\n",
        "min = 0\n",
        "max = 60\n",
        "interval = 15\n",
        "\n",
        "n = (max-min)/interval\n",
        "fx = 1/(max-min)\n",
        "\n",
        "print(n*(5-0)*fx)"
      ]
    },
    {
      "cell_type": "code",
      "execution_count": null,
      "metadata": {
        "colab": {
          "base_uri": "https://localhost:8080/"
        },
        "id": "LB2YvGF45_MO",
        "outputId": "3d9cb938-fe21-43dd-bffc-c078d7fd10b6"
      },
      "outputs": [
        {
          "data": {
            "text/plain": [
              "0.984375"
            ]
          },
          "execution_count": 11,
          "metadata": {},
          "output_type": "execute_result"
        }
      ],
      "source": [
        "# Non-Uniform\n",
        "\n",
        "def f(x):\n",
        "  return 3/4 * (1/4)**x\n",
        "\n",
        "# find P\n",
        "# print((20-10)*fx1 + (50-20)*fx2)\n",
        "f(2)+f(1)+f(0)"
      ]
    },
    {
      "cell_type": "code",
      "execution_count": null,
      "metadata": {
        "colab": {
          "base_uri": "https://localhost:8080/",
          "height": 37
        },
        "id": "HvJkbiKBFXBT",
        "outputId": "31bcc431-15e5-42e9-9d93-8ea6fd312838"
      },
      "outputs": [
        {
          "data": {
            "text/latex": [
              "$\\displaystyle 0.75$"
            ],
            "text/plain": [
              "0.750000000000000"
            ]
          },
          "execution_count": 17,
          "metadata": {},
          "output_type": "execute_result"
        }
      ],
      "source": [
        "# integration\n",
        "def integral(fx, min, max):\n",
        "  x = sy.Symbol(\"x\")\n",
        "  return sy.integrate(fx, (x, min, max))\n",
        "\n",
        "# USAGE\n",
        "integral(x+3, -2.5, -2) + integral (3-x, 2, 2.5)"
      ]
    },
    {
      "cell_type": "code",
      "execution_count": null,
      "metadata": {
        "colab": {
          "base_uri": "https://localhost:8080/"
        },
        "id": "u2SFE9-DWki_",
        "outputId": "1ea3e20a-b82e-4643-fff8-9fa2d3b3fb5a"
      },
      "outputs": [
        {
          "data": {
            "text/plain": [
              "2.9000000000000004"
            ]
          },
          "execution_count": 13,
          "metadata": {},
          "output_type": "execute_result"
        }
      ],
      "source": [
        "import math\n",
        "0.2*8 + 0.04*(9**2-4**2)/2"
      ]
    },
    {
      "cell_type": "code",
      "execution_count": 9,
      "metadata": {},
      "outputs": [
        {
          "name": "stdout",
          "output_type": "stream",
          "text": [
            "f(66)=0.005616247540346135\n",
            "F(66)=0.6311997448506033\n",
            "EX=66.66666666666667\n",
            "varX=4377.777777777778\n",
            "modus = 1\n",
            "0.09205537676500453\n",
            "F(85)=0.7232551216156078\n",
            "F(66)=0.6311997448506033\n"
          ]
        }
      ],
      "source": [
        "# Distribusi Geometrik\n",
        "# X ~ Geometrik (p)\n",
        "# p: P(success) --> jumlah percobaan yang dilakukan hingga sukses pertama didapatkan\n",
        "\n",
        "def geom_pmf(x, p):\n",
        "    return p * (1-p) ** (x-1)\n",
        "\n",
        "def geom_cdf(x, p):\n",
        "    cdf = 0\n",
        "    for i in range(1, x+1):\n",
        "        cdf += geom_pmf(i, p)\n",
        "    return cdf\n",
        "\n",
        "# USAGE\n",
        "p = 0.015\n",
        "x = 66\n",
        "\n",
        "q = 1-p\n",
        "EX = 1/p\n",
        "varX = (1-p)/p**2\n",
        "\n",
        "print(f\"f({x})={geom_pmf(x, p)}\")\n",
        "print(f\"F({x})={geom_cdf(x, p)}\")\n",
        "print(f\"EX={EX}\")\n",
        "print(f\"varX={varX}\")\n",
        "print(f\"modus = 1\")\n",
        "print(geom_cdf(85, p)-geom_cdf(66, p))\n",
        "print(f\"F({85})={geom_cdf(85, p)}\")\n",
        "print(f\"F({66})={geom_cdf(66, p)}\")"
      ]
    },
    {
      "cell_type": "code",
      "execution_count": 1,
      "metadata": {},
      "outputs": [
        {
          "name": "stdout",
          "output_type": "stream",
          "text": [
            "f(3)=0.19536681481316456\n",
            "F(3)=0.43347012036670884\n",
            "0.5665298796332912\n",
            "0.0\n",
            "EX = varX = 4.0\n"
          ]
        }
      ],
      "source": [
        "# Distribusi Poisson\n",
        "# X ~ Poisson (λ)\n",
        "# λ: jumlah sukses yang terjadi pada suatu rentang\n",
        "\n",
        "# jumlah sukses antar interval adalah independen\n",
        "# jarak waktu antar kejadian terdistribusi eksponensial\n",
        "# probabilitas sukses >1 dalam interval sangat kecil dianggap 0\n",
        "\n",
        "import numpy as np\n",
        "from math import comb, factorial\n",
        "\n",
        "def poisson_pmf(x, lam):\n",
        "    # fx\n",
        "    return np.exp(-lam) * lam ** x / factorial(x)\n",
        "\n",
        "def poisson_cdf(x, lam):\n",
        "    # Fx\n",
        "    cdf = 0\n",
        "    for i in range(0, x+1):\n",
        "        cdf += poisson_pmf(i, lam)\n",
        "    return cdf\n",
        "\n",
        "# USAGE\n",
        "kejadian = 1\n",
        "semesta = 5000\n",
        "satuan_t = 20000\n",
        "x = 3\n",
        "\n",
        "# λ = 9 * 10**(-7)\n",
        "# λt = 10/2\n",
        "λ = kejadian/semesta\n",
        "λt = λ * satuan_t\n",
        "EX = λt\n",
        "varX = λt\n",
        "\n",
        "print(f\"f({x})={poisson_pmf(x, λt)}\")\n",
        "print(f\"F({x})={poisson_cdf(x, λt)}\")\n",
        "print(1-poisson_cdf(x, λt))\n",
        "print(poisson_cdf(100, λt)-poisson_cdf(79, λt))\n",
        "print(f\"EX = varX = {λt}\")\n"
      ]
    },
    {
      "cell_type": "code",
      "execution_count": 3,
      "metadata": {},
      "outputs": [
        {
          "name": "stdout",
          "output_type": "stream",
          "text": [
            "0.7618966944464556\n"
          ]
        }
      ],
      "source": [
        "from scipy.stats import erlang\n",
        "\n",
        "x = 3 # evaluate cdf\n",
        "beta = 5000\n",
        "periode = 20000\n",
        "\n",
        "\n",
        "print(erlang.cdf(periode, x, scale = beta))"
      ]
    }
  ],
  "metadata": {
    "colab": {
      "provenance": []
    },
    "kernelspec": {
      "display_name": "Python 3",
      "name": "python3"
    },
    "language_info": {
      "codemirror_mode": {
        "name": "ipython",
        "version": 3
      },
      "file_extension": ".py",
      "mimetype": "text/x-python",
      "name": "python",
      "nbconvert_exporter": "python",
      "pygments_lexer": "ipython3",
      "version": "3.10.5"
    }
  },
  "nbformat": 4,
  "nbformat_minor": 0
}
