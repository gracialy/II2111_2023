{
 "cells": [
  {
   "cell_type": "markdown",
   "metadata": {},
   "source": [
    "# UNIFORM\n",
    "> Lomba debat"
   ]
  },
  {
   "cell_type": "code",
   "execution_count": 4,
   "metadata": {},
   "outputs": [],
   "source": [
    "'''USAGE'''\n",
    "class entity:\n",
    "    def __init__(self, name, karg, lower, upper):\n",
    "        self.name = name\n",
    "        self.karg = int(karg)\n",
    "        self.narg = 0.7 * karg\n",
    "        self.lower = lower\n",
    "        self.upper = upper\n",
    "\n",
    "menang = entity(\"K\", 73, 15, 35)\n",
    "kalah = entity(\"L\", 83, 20, 40)\n",
    "\n",
    "# arg = tekis\n",
    "# eff = harga\n",
    "\n",
    "# X: error\n",
    "# B_X ~ Uniform (200-300)\n",
    "# A_X ~ Uniform (250-350)"
   ]
  },
  {
   "cell_type": "code",
   "execution_count": 5,
   "metadata": {},
   "outputs": [],
   "source": [
    "fx = 1/(menang.upper-menang.lower)\n",
    "fy = 1/(kalah.upper-kalah.lower)\n",
    "fxy = fx* fy"
   ]
  },
  {
   "cell_type": "code",
   "execution_count": 2,
   "metadata": {},
   "outputs": [
    {
     "name": "stdout",
     "output_type": "stream",
     "text": [
      "1.00000000000000\n",
      "EX: 25.0000000000000\n",
      "varX: 33.3333333333334\n",
      "median: [25.0000000000000], proof: 0.500000000000000\n",
      "K\n"
     ]
    }
   ],
   "source": [
    "# Uniform\n",
    "import matplotlib.pyplot as plt\n",
    "import numpy as np\n",
    "import sympy as sy\n",
    "\n",
    "# Define the mkfx class\n",
    "class mkfx:\n",
    "    def __init__(self, min_value, max_value):\n",
    "        self.min = min_value\n",
    "        self.max = max_value\n",
    "\n",
    "    def functfx(self):\n",
    "        return 1 / (self.max - self.min)\n",
    "\n",
    "def F(top):\n",
    "  global fx, my_mkfx\n",
    "\n",
    "  x = sy.Symbol(\"x\")\n",
    "  return sy.integrate(fx, (x, my_mkfx.min, top))\n",
    "\n",
    "# USAGE (Uniform)\n",
    "max = 35\n",
    "min = 15\n",
    "\n",
    "# Create an instance of mkfx\n",
    "my_mkfx = mkfx(min, max)\n",
    "# Call the functfx method on the instance\n",
    "fx = my_mkfx.functfx()\n",
    "\n",
    "x = sy.Symbol(\"x\")\n",
    "EX = sy.integrate(x*fx, (x, my_mkfx.min, my_mkfx.max))\n",
    "EX2 = sy.integrate(x**2*fx, (x, my_mkfx.min, my_mkfx.max))\n",
    "varX = EX2 - EX**2\n",
    "\n",
    "x = sy.Symbol(\"x\")\n",
    "eq = sy.Eq(F(x), 0.5)\n",
    "median = sy.solve(eq,x)\n",
    "\n",
    "# USAGE (Uniform)\n",
    "# P(A to B) = F(B)-F(A)\n",
    "print(F(35)-F(15))\n",
    "fxy_x = F(35)-F(15)\n",
    "print(f\"EX: {EX}\")\n",
    "print(f\"varX: {varX}\")\n",
    "print(f\"median: {median}, proof: {F(median)}\")\n",
    "print(\"K\")"
   ]
  },
  {
   "cell_type": "code",
   "execution_count": 4,
   "metadata": {},
   "outputs": [
    {
     "name": "stdout",
     "output_type": "stream",
     "text": [
      "1.00000000000000\n",
      "EX: 30.0000000000000\n",
      "varX: 33.3333333333334\n",
      "median: [30.0000000000000], proof: 0.500000000000000\n",
      "L\n"
     ]
    }
   ],
   "source": [
    "# Uniform\n",
    "import matplotlib.pyplot as plt\n",
    "import numpy as np\n",
    "import sympy as sy\n",
    "\n",
    "# Define the mkfx class\n",
    "class mkfx:\n",
    "    def __init__(self, min_value, max_value):\n",
    "        self.min = min_value\n",
    "        self.max = max_value\n",
    "\n",
    "    def functfx(self):\n",
    "        return 1 / (self.max - self.min)\n",
    "\n",
    "def F(top):\n",
    "  global fx, my_mkfx\n",
    "\n",
    "  x = sy.Symbol(\"x\")\n",
    "  return sy.integrate(fx, (x, my_mkfx.min, top))\n",
    "\n",
    "# USAGE (Uniform)\n",
    "max = 40\n",
    "min = 20\n",
    "\n",
    "# Create an instance of mkfx\n",
    "my_mkfx = mkfx(min, max)\n",
    "# Call the functfx method on the instance\n",
    "fx = my_mkfx.functfx()\n",
    "\n",
    "x = sy.Symbol(\"x\")\n",
    "EX = sy.integrate(x*fx, (x, my_mkfx.min, my_mkfx.max))\n",
    "EX2 = sy.integrate(x**2*fx, (x, my_mkfx.min, my_mkfx.max))\n",
    "varX = EX2 - EX**2\n",
    "\n",
    "x = sy.Symbol(\"x\")\n",
    "eq = sy.Eq(F(x), 0.5)\n",
    "median = sy.solve(eq,x)\n",
    "\n",
    "# USAGE (Uniform)\n",
    "# P(A to B) = F(B)-F(A)\n",
    "print(F(40)-F(20))\n",
    "fxy_y = F(40)-F(20)\n",
    "print(f\"EX: {EX}\")\n",
    "print(f\"varX: {varX}\")\n",
    "print(f\"median: {median}, proof: {F(median)}\")\n",
    "print(\"L\")"
   ]
  },
  {
   "cell_type": "code",
   "execution_count": 5,
   "metadata": {},
   "outputs": [
    {
     "data": {
      "text/plain": [
       "25.0"
      ]
     },
     "execution_count": 5,
     "metadata": {},
     "output_type": "execute_result"
    }
   ],
   "source": [
    "EK = menang.lower + menang.upper\n",
    "EK = EK/2\n",
    "EK"
   ]
  },
  {
   "cell_type": "code",
   "execution_count": 6,
   "metadata": {},
   "outputs": [
    {
     "data": {
      "text/plain": [
       "30.0"
      ]
     },
     "execution_count": 6,
     "metadata": {},
     "output_type": "execute_result"
    }
   ],
   "source": [
    "EL = kalah.lower + kalah.upper\n",
    "EL = EL/2\n",
    "medL = EL\n",
    "medL"
   ]
  },
  {
   "cell_type": "code",
   "execution_count": 6,
   "metadata": {},
   "outputs": [
    {
     "data": {
      "text/plain": [
       "0.0025000000000000005"
      ]
     },
     "execution_count": 6,
     "metadata": {},
     "output_type": "execute_result"
    }
   ],
   "source": [
    "# c\n",
    "fxy"
   ]
  },
  {
   "cell_type": "code",
   "execution_count": 7,
   "metadata": {},
   "outputs": [
    {
     "data": {
      "text/plain": [
       "0.6137547250000002"
      ]
     },
     "execution_count": 7,
     "metadata": {},
     "output_type": "execute_result"
    }
   ],
   "source": [
    "def NA(NArg, NEff):\n",
    "    return NArg + NEff\n",
    "\n",
    "def NArg(karg):\n",
    "    return 0.7 * karg\n",
    "\n",
    "def NEff(err):\n",
    "    harga = (40-err)/40*100\n",
    "    return 0.3 * harga\n",
    "    # 0.4*100 (40-err)\n",
    "    # 40*40 - 2/50 * err\n",
    "    # -2/50 * err *0.3\n",
    "\n",
    "# desmos brutal https://desmos.com\n",
    "# 0\n",
    "# 0.7 * 70 + 0.3 * (40-x)/40 * 100 > 0.7 * 80 + 0.3 * (40-y)/40 * 100\n",
    "# 15<x<35\n",
    "# 20<y<40\n",
    "\n",
    "# segitiga/semesta\n",
    "(30.667-15) * (40-24.33) / (20*20)"
   ]
  }
 ],
 "metadata": {
  "kernelspec": {
   "display_name": "Python 3",
   "language": "python",
   "name": "python3"
  },
  "language_info": {
   "codemirror_mode": {
    "name": "ipython",
    "version": 3
   },
   "file_extension": ".py",
   "mimetype": "text/x-python",
   "name": "python",
   "nbconvert_exporter": "python",
   "pygments_lexer": "ipython3",
   "version": "3.10.5"
  }
 },
 "nbformat": 4,
 "nbformat_minor": 2
}
