{
 "cells": [
  {
   "cell_type": "markdown",
   "metadata": {},
   "source": [
    "# BINOMIAL\n",
    "> Sistem komunikasi"
   ]
  },
  {
   "cell_type": "code",
   "execution_count": 1,
   "metadata": {},
   "outputs": [],
   "source": [
    "from scipy.stats import binom\n",
    "# dik:\n",
    "'''USAGE'''\n",
    "\n",
    "p = 0.85\n",
    "n = 9\n",
    "\n",
    "q = 1-p"
   ]
  },
  {
   "cell_type": "markdown",
   "metadata": {},
   "source": [
    "```CDF: F(x)```\n",
    "\n",
    "```PMF: f(x)```"
   ]
  },
  {
   "cell_type": "code",
   "execution_count": 2,
   "metadata": {},
   "outputs": [
    {
     "name": "stdout",
     "output_type": "stream",
     "text": [
      "   x            fx            Fx       xfx  x2       x2fx\n",
      "0  0  3.844336e-08  3.844336e-08  0.000000   0   0.000000\n",
      "1  1  1.960611e-06  1.999055e-06  0.000002   1   0.000002\n",
      "2  2  4.444052e-05  4.643958e-05  0.000089   4   0.000178\n",
      "3  3  5.876025e-04  6.340421e-04  0.001763   9   0.005288\n",
      "4  4  4.994621e-03  5.628663e-03  0.019978  16   0.079914\n",
      "5  5  2.830285e-02  3.393152e-02  0.141514  25   0.707571\n",
      "6  6  1.069219e-01  1.408534e-01  0.641531  36   3.849188\n",
      "7  7  2.596674e-01  4.005208e-01  1.817672  49  12.723705\n",
      "8  8  3.678622e-01  7.683831e-01  2.942898  64  23.543181\n",
      "9  9  2.316169e-01  1.000000e+00  2.084553  81  18.760973 \n",
      "\n",
      "EX: 7.65\n",
      "EX2: 59.66999999999999\n",
      "varX: 1.1474999999999795\n",
      "modus_x: [8]\n",
      "\n"
     ]
    }
   ],
   "source": [
    "# Binomial Overview\n",
    "from math import comb\n",
    "import pandas as pd\n",
    "\n",
    "def binom_pmf(x, n, p):\n",
    "    return comb(n, x) * p**x * (1-p) ** (n-x)\n",
    "\n",
    "# nilai random variable\n",
    "x_list = [i for i in range (n+1)]\n",
    "fx = [binom_pmf(x, n, p) for x in x_list]\n",
    "\n",
    "''''''\n",
    "# USAGE\n",
    "# Keuntungan yang diharapkan\n",
    "# x_list = [100, 50, 10]\n",
    "# fx = [0.3, 0.36, 0.1]\n",
    "\n",
    "# make table of x and fx column\n",
    "tabel_fx = pd.DataFrame({'x': x_list,\n",
    "                        'fx': fx})\n",
    "# add Fx column\n",
    "tabel_fx['Fx'] = tabel_fx['fx'].cumsum()\n",
    "# add xfx column\n",
    "tabel_fx['xfx'] = tabel_fx['x'] * tabel_fx['fx']\n",
    "# add x2 column\n",
    "tabel_fx['x2'] = tabel_fx['x'] ** 2\n",
    "# add x2fx\n",
    "tabel_fx['x2fx'] = tabel_fx['x2'] * tabel_fx['fx']\n",
    "\n",
    "\n",
    "EX = tabel_fx['xfx'].sum()\n",
    "EX2 = tabel_fx['x2fx'].sum()\n",
    "varX = EX2 - (EX) ** 2\n",
    "\n",
    "max_fx = tabel_fx['fx'].max()\n",
    "modus_x = tabel_fx.loc[tabel_fx['fx'] == max_fx, 'x'].values\n",
    "# only continuous has median\n",
    "\n",
    "print(tabel_fx, \"\\n\")\n",
    "print(f\"EX: {EX}\")\n",
    "print(f\"EX2: {EX2}\")\n",
    "print(f\"varX: {varX}\")\n",
    "print(f\"modus_x: {modus_x}\\n\")"
   ]
  },
  {
   "cell_type": "code",
   "execution_count": 3,
   "metadata": {},
   "outputs": [
    {
     "data": {
      "text/plain": [
       "0.7224999999999999"
      ]
     },
     "execution_count": 3,
     "metadata": {},
     "output_type": "execute_result"
    }
   ],
   "source": [
    "# 1-2\n",
    "\n",
    "import math\n",
    "p1to2 = p * p # a ON * b ON\n",
    "p1to2"
   ]
  },
  {
   "cell_type": "code",
   "execution_count": 5,
   "metadata": {},
   "outputs": [
    {
     "data": {
      "text/plain": [
       "0.6141249999999999"
      ]
     },
     "execution_count": 5,
     "metadata": {},
     "output_type": "execute_result"
    }
   ],
   "source": [
    "# 1 2 dan 3 terhubung satu sama lain\n",
    "\n",
    "p123 = p * p * p *p # A ON * B ON * C ON * D ON\n",
    "p123"
   ]
  },
  {
   "cell_type": "code",
   "execution_count": 14,
   "metadata": {},
   "outputs": [
    {
     "data": {
      "text/plain": [
       "0.5217419843359373"
      ]
     },
     "execution_count": 14,
     "metadata": {},
     "output_type": "execute_result"
    }
   ],
   "source": [
    "# c\n",
    "# 1 - 3 - server\n",
    "\n",
    "# A ON * C ON * D ON * (X>=1 ON = 1-f(0)) * I ON\n",
    "p13s = p * p * p * p * (1-binom.pmf(0, 4, p))\n",
    "p13s"
   ]
  },
  {
   "cell_type": "code",
   "execution_count": 16,
   "metadata": {},
   "outputs": [
    {
     "data": {
      "text/plain": [
       "0.15873015873015872"
      ]
     },
     "execution_count": 16,
     "metadata": {},
     "output_type": "execute_result"
    }
   ],
   "source": [
    "# d\n",
    "import math\n",
    "\n",
    "# dipastikan n ON dan nc OFF -> tidak perlu p dan q\n",
    "\n",
    "# P(1tos ON | 5 ON) = n favorable / n(5)\n",
    "bekerja = n-4\n",
    "nkerja = math.comb(n, bekerja)\n",
    "\n",
    "# 1tos favorable | x=5\n",
    "# (1)     (2)   (3)     (4)     (5)\n",
    "# A     C      5       ~        I   = 5*4\n",
    "5*4/nkerja"
   ]
  },
  {
   "cell_type": "code",
   "execution_count": 20,
   "metadata": {},
   "outputs": [
    {
     "name": "stdout",
     "output_type": "stream",
     "text": [
      "favorable:  20\n",
      "semesta:  84\n",
      "0.23809523809523808\n"
     ]
    }
   ],
   "source": [
    "# Rafly brute force\n",
    "favorab = 0\n",
    "semesta = 0\n",
    "temp = 0\n",
    "n = 9\n",
    "for a in range(2):\n",
    "  for b in range(2):\n",
    "    for c in range(2):\n",
    "      for d in range(2):\n",
    "        for e in range(2):\n",
    "          for f in range(2):\n",
    "            for g in range(2):\n",
    "              for h in range(2):\n",
    "                for i in range(2):\n",
    "                  total = a + b + c + d + e + f + g + h + i\n",
    "                  if total == 6:\n",
    "                    semesta += 1\n",
    "                    tersambung = (a and c and i) and (e or f or g or h)\n",
    "                    if tersambung:\n",
    "                      favorab += 1\n",
    "                      # temp += p ** total * (1-p) ** (n - total)\n",
    "\n",
    "print(\"favorable: \", favorab)\n",
    "print(\"semesta: \", semesta)\n",
    "print(favorab/semesta)"
   ]
  },
  {
   "cell_type": "code",
   "execution_count": 23,
   "metadata": {},
   "outputs": [
    {
     "data": {
      "text/plain": [
       "0.23809523809523808"
      ]
     },
     "execution_count": 23,
     "metadata": {},
     "output_type": "execute_result"
    }
   ],
   "source": [
    "# e\n",
    "from math import comb\n",
    "# P(1tos ON | 6 ON) = n favorable / n(6)\n",
    "bekerja = n-3\n",
    "nkerja = math.comb(n, bekerja)\n",
    "\n",
    "# 1tos favorable | x=6\n",
    "# (1)   (2)   (3)     (4)     (5)   (6)\n",
    "# A     C      ~       ~       ~      I\n",
    "\n",
    "# 3 from EFGH, 0 from BD\n",
    "any_1 = comb(4, 3) * comb(2, 0)\n",
    "any_2 = comb(4, 2) * comb(2, 1)\n",
    "any_3 = comb(4, 1) * comb(2, 2)\n",
    "(any_1 + any_2 + any_3)/nkerja"
   ]
  }
 ],
 "metadata": {
  "kernelspec": {
   "display_name": "Python 3",
   "language": "python",
   "name": "python3"
  },
  "language_info": {
   "codemirror_mode": {
    "name": "ipython",
    "version": 3
   },
   "file_extension": ".py",
   "mimetype": "text/x-python",
   "name": "python",
   "nbconvert_exporter": "python",
   "pygments_lexer": "ipython3",
   "version": "3.10.5"
  }
 },
 "nbformat": 4,
 "nbformat_minor": 2
}
