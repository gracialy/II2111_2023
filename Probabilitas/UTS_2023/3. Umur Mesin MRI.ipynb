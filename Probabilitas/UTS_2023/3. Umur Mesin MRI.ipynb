{
 "cells": [
  {
   "cell_type": "markdown",
   "metadata": {},
   "source": [
    "# POISSON\n",
    "> Mesin Fotokopi"
   ]
  },
  {
   "cell_type": "markdown",
   "metadata": {},
   "source": [
    "- EKSPONENSIAL"
   ]
  },
  {
   "cell_type": "code",
   "execution_count": 3,
   "metadata": {},
   "outputs": [
    {
     "name": "stdout",
     "output_type": "stream",
     "text": [
      "20. (exp) F(5000) = 0.08191930269928183\n",
      "20. (exp) F(5000) = 0.08191930269928194\n"
     ]
    }
   ],
   "source": [
    "# X: waktu sampai 1x kejadian\n",
    "# X ~ exp (β)\n",
    "\n",
    "'''USAGE'''\n",
    "# x: periode\n",
    "lower_bound = 20000\n",
    "upper_bound = 25000\n",
    "periode = upper_bound-lower_bound\n",
    "\n",
    "import numpy as np\n",
    "def exp(x, beta):\n",
    "    return 1 - np.exp(-x/beta)\n",
    "# or\n",
    "from scipy.stats import expon\n",
    "\n",
    "beta = 22500\n",
    "EX = beta\n",
    "varX = EX**2\n",
    "\n",
    "print(f\"20. (exp) F({periode}) = {exp(upper_bound, beta) - exp(lower_bound, beta)}\")\n",
    "print(f\"20. (exp) F({periode}) = {expon.cdf(upper_bound, scale = beta) - expon.cdf(lower_bound, scale = beta)}\")"
   ]
  },
  {
   "cell_type": "code",
   "execution_count": 6,
   "metadata": {},
   "outputs": [
    {
     "name": "stdout",
     "output_type": "stream",
     "text": [
      "20. (exp) F(20000) = 0.5888877094928125\n",
      "20. (exp) F(20000) = 0.5888877094928124\n"
     ]
    }
   ],
   "source": [
    "# X: waktu sampai 1x kejadian\n",
    "# X ~ exp (β)\n",
    "\n",
    "'''USAGE'''\n",
    "# x: periode\n",
    "lower_bound = 0\n",
    "upper_bound = 20000\n",
    "periode = upper_bound-lower_bound\n",
    "\n",
    "import numpy as np\n",
    "def exp(x, beta):\n",
    "    return 1 - np.exp(-x/beta)\n",
    "# or\n",
    "from scipy.stats import expon\n",
    "\n",
    "beta = 22500\n",
    "EX = beta\n",
    "varX = EX**2\n",
    "\n",
    "print(f\"20. (exp) F({periode}) = {exp(upper_bound, beta) - exp(lower_bound, beta)}\")\n",
    "print(f\"20. (exp) F({periode}) = {expon.cdf(upper_bound, scale = beta) - expon.cdf(lower_bound, scale = beta)}\")"
   ]
  },
  {
   "cell_type": "markdown",
   "metadata": {},
   "source": [
    "# WEIBULL\n",
    "> Mesin Fotokopi"
   ]
  },
  {
   "cell_type": "code",
   "execution_count": 1,
   "metadata": {},
   "outputs": [
    {
     "name": "stdout",
     "output_type": "stream",
     "text": [
      "23. (Weibull) F(2000) = 0.04902368939711299\n"
     ]
    }
   ],
   "source": [
    "# X: waktu sampai 1x kejadian\n",
    "# X ~ Weibull (α, β)\n",
    "\n",
    "'''USAGE'''\n",
    "beta = 1.4 # shape_weibull\n",
    "mean = 21500 # scale_weibull\n",
    "lower_bound = 20000\n",
    "upper_bound = 22000\n",
    "periode = upper_bound-lower_bound\n",
    "\n",
    "from scipy.stats import weibull_min\n",
    "\n",
    "# c=0: default, no shift (in this case, cdf)\n",
    "print(f\"23. (Weibull) F({periode}) = {weibull_min.cdf(upper_bound, c=beta, scale=mean) -weibull_min.cdf(lower_bound, c=beta, scale=mean)}\")"
   ]
  },
  {
   "cell_type": "code",
   "execution_count": 5,
   "metadata": {},
   "outputs": [
    {
     "name": "stdout",
     "output_type": "stream",
     "text": [
      "23. (Weibull) F(20000) = 0.5949351285424205\n"
     ]
    }
   ],
   "source": [
    "# X: waktu sampai 1x kejadian\n",
    "# X ~ Weibull (α, β)\n",
    "\n",
    "'''USAGE'''\n",
    "beta = 1.4 # shape_weibull\n",
    "mean = 21500 # scale_weibull\n",
    "lower_bound = 0\n",
    "upper_bound = 20000\n",
    "periode = upper_bound-lower_bound\n",
    "\n",
    "from scipy.stats import weibull_min\n",
    "\n",
    "# c=0: default, no shift (in this case, cdf)\n",
    "print(f\"23. (Weibull) F({periode}) = {weibull_min.cdf(upper_bound, c=beta, scale=mean) -weibull_min.cdf(lower_bound, c=beta, scale=mean)}\")"
   ]
  }
 ],
 "metadata": {
  "kernelspec": {
   "display_name": "Python 3",
   "language": "python",
   "name": "python3"
  },
  "language_info": {
   "codemirror_mode": {
    "name": "ipython",
    "version": 3
   },
   "file_extension": ".py",
   "mimetype": "text/x-python",
   "name": "python",
   "nbconvert_exporter": "python",
   "pygments_lexer": "ipython3",
   "version": "3.10.5"
  }
 },
 "nbformat": 4,
 "nbformat_minor": 2
}
