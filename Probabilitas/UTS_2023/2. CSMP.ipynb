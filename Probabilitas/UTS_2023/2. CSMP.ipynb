{
 "cells": [
  {
   "cell_type": "markdown",
   "metadata": {},
   "source": [
    "# CONFUSION MATRIX\n",
    "> Positif COVID"
   ]
  },
  {
   "cell_type": "markdown",
   "metadata": {},
   "source": [
    "# SALAH"
   ]
  },
  {
   "cell_type": "code",
   "execution_count": 1,
   "metadata": {},
   "outputs": [
    {
     "data": {
      "text/html": [
       "<div>\n",
       "<style scoped>\n",
       "    .dataframe tbody tr th:only-of-type {\n",
       "        vertical-align: middle;\n",
       "    }\n",
       "\n",
       "    .dataframe tbody tr th {\n",
       "        vertical-align: top;\n",
       "    }\n",
       "\n",
       "    .dataframe thead th {\n",
       "        text-align: right;\n",
       "    }\n",
       "</style>\n",
       "<table border=\"1\" class=\"dataframe\">\n",
       "  <thead>\n",
       "    <tr style=\"text-align: right;\">\n",
       "      <th></th>\n",
       "      <th>E | H</th>\n",
       "      <th>E</th>\n",
       "      <th>Ec</th>\n",
       "    </tr>\n",
       "  </thead>\n",
       "  <tbody>\n",
       "    <tr>\n",
       "      <th>0</th>\n",
       "      <td>H</td>\n",
       "      <td>TP</td>\n",
       "      <td>FP</td>\n",
       "    </tr>\n",
       "    <tr>\n",
       "      <th>1</th>\n",
       "      <td>Hc</td>\n",
       "      <td>FN</td>\n",
       "      <td>TN</td>\n",
       "    </tr>\n",
       "  </tbody>\n",
       "</table>\n",
       "</div>"
      ],
      "text/plain": [
       "  E | H   E  Ec\n",
       "0     H  TP  FP\n",
       "1    Hc  FN  TN"
      ]
     },
     "execution_count": 1,
     "metadata": {},
     "output_type": "execute_result"
    }
   ],
   "source": [
    "import pandas as pd\n",
    "\n",
    "# H: actual values (kasus)\n",
    "# E: predicted values\n",
    "\n",
    "cm = {\n",
    "    'E | H': [\"H\" , \"Hc\"],\n",
    "    'E': ['TP', 'FN'],\n",
    "    'Ec': ['FP', 'TN']\n",
    "}\n",
    "\n",
    "df = pd.DataFrame(cm)\n",
    "df"
   ]
  },
  {
   "cell_type": "code",
   "execution_count": 3,
   "metadata": {},
   "outputs": [],
   "source": [
    "# dik:\n",
    "'''ALL USAGE'''\n",
    "\n",
    "semesta = 100000\n",
    "E = 30000\n",
    "pE = 0.3\n",
    "pEc = 1-pE\n",
    "\n",
    "ppv = 0.43\n",
    "fdr = 1-ppv\n",
    "npv = 0.93\n",
    "forr = 1-npv\n",
    "\n",
    "tp = ppv\n",
    "fp = 1-tp\n",
    "tn = npv\n",
    "fn = 1-tn\n",
    "\n",
    "# ppv = tp/(tp+fp)\n",
    "# npv = tn/(tn+fn)\n"
   ]
  },
  {
   "cell_type": "code",
   "execution_count": 9,
   "metadata": {},
   "outputs": [
    {
     "name": "stdout",
     "output_type": "stream",
     "text": [
      "tpr = 0.8600000000000001\n",
      "tnr = 0.62\n",
      "fpr = 0.38000000000000006\n",
      "fnr = 0.13999999999999993\n",
      "ppv = 0.43\n",
      "npv = 0.93\n",
      "fdr = 0.5700000000000001\n",
      "for = 0.06999999999999995\n",
      "acc = 0.68\n"
     ]
    }
   ],
   "source": [
    "# pH = pHnE + pHnEc\n",
    "pHnE = ppv * pE\n",
    "pHnEc = forr * pEc\n",
    "pH = pHnE + pHnEc\n",
    "pHc = 1 - pH\n",
    "\n",
    "'''pEnH = tpr * pH # E|H * pH\n",
    "pEnHc = fpr * pHc\n",
    "pEcnHc = tnr * pHc\n",
    "\n",
    "pE = pEnH + pEnHc\n",
    "pEc = 1-pE'''\n",
    "\n",
    "# - E|H: TPR, recall, sensitivity\n",
    "tpr = tp/(tp+fn)\n",
    "# - Ec|H: FNR, miss rate\n",
    "fnr = fn/(tp+fn)\n",
    "\n",
    "# - E|Hc: FPR, false alarm\n",
    "fpr = fp/(tn+fp)\n",
    "# - Ec|Hc: TNR, specificity\n",
    "tnr = tn/(tn+fp)\n",
    "\n",
    "# - H|E: PPV, precision\n",
    "ppv = tp/(tp+fp)\n",
    "# - Hc|E: FDR\n",
    "fdr = fp/(tp+fp)\n",
    "\n",
    "# - H|Ec: FOR\n",
    "forr = fn/(tn+fn)\n",
    "# - Hc|Ec: NPV\n",
    "npv = tn/(tn+fn)\n",
    "\n",
    "# ACC\n",
    "acc = (tp+tn)/(tp+tn+fp+fn)\n",
    "\n",
    "# e pHE ppv\n",
    "# f pHcE 1-ppv\n",
    "# gh pHxEc -> forr, npv\n",
    "\n",
    "print(\"tpr =\", tpr)\n",
    "print(\"tnr =\", tnr)\n",
    "print(\"fpr =\", fpr)\n",
    "print(\"fnr =\", fnr)\n",
    "print(\"ppv =\", ppv)\n",
    "print(\"npv =\", npv)\n",
    "print(\"fdr =\", fdr)\n",
    "print(\"for =\", forr)\n",
    "print(\"acc =\", acc)"
   ]
  },
  {
   "cell_type": "code",
   "execution_count": 5,
   "metadata": {},
   "outputs": [
    {
     "data": {
      "text/plain": [
       "0.8600000000000001"
      ]
     },
     "execution_count": 5,
     "metadata": {},
     "output_type": "execute_result"
    }
   ],
   "source": [
    "pEH=tpr\n",
    "tpr"
   ]
  },
  {
   "cell_type": "code",
   "execution_count": 6,
   "metadata": {},
   "outputs": [
    {
     "data": {
      "text/plain": [
       "0.13999999999999993"
      ]
     },
     "execution_count": 6,
     "metadata": {},
     "output_type": "execute_result"
    }
   ],
   "source": [
    "fnr # pEcH"
   ]
  },
  {
   "cell_type": "code",
   "execution_count": 7,
   "metadata": {},
   "outputs": [
    {
     "data": {
      "text/plain": [
       "0.38000000000000006"
      ]
     },
     "execution_count": 7,
     "metadata": {},
     "output_type": "execute_result"
    }
   ],
   "source": [
    "fpr # pEHc"
   ]
  },
  {
   "cell_type": "code",
   "execution_count": 8,
   "metadata": {},
   "outputs": [
    {
     "data": {
      "text/plain": [
       "0.62"
      ]
     },
     "execution_count": 8,
     "metadata": {},
     "output_type": "execute_result"
    }
   ],
   "source": [
    "tnr # pEcHc"
   ]
  },
  {
   "cell_type": "code",
   "execution_count": 10,
   "metadata": {},
   "outputs": [
    {
     "name": "stdout",
     "output_type": "stream",
     "text": [
      "1.a. prevalensi: pH = 0.17799999999999996\n"
     ]
    }
   ],
   "source": [
    "print(\"1.a. prevalensi: pH =\", pH)"
   ]
  }
 ],
 "metadata": {
  "kernelspec": {
   "display_name": "Python 3",
   "language": "python",
   "name": "python3"
  },
  "language_info": {
   "codemirror_mode": {
    "name": "ipython",
    "version": 3
   },
   "file_extension": ".py",
   "mimetype": "text/x-python",
   "name": "python",
   "nbconvert_exporter": "python",
   "pygments_lexer": "ipython3",
   "version": "3.10.5"
  }
 },
 "nbformat": 4,
 "nbformat_minor": 2
}
