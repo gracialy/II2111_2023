{
 "cells": [
  {
   "cell_type": "code",
   "execution_count": 8,
   "id": "78bd2d32",
   "metadata": {},
   "outputs": [],
   "source": [
    "import pandas as pd\n",
    "from math import comb, factorial\n",
    "from scipy.stats import binom, geom, poisson\n",
    "import seaborn as sb\n",
    "import matplotlib.pyplot as plt\n",
    "import numpy as np"
   ]
  },
  {
   "cell_type": "code",
   "execution_count": 95,
   "id": "9756f261",
   "metadata": {},
   "outputs": [],
   "source": [
    "ph = 0.0002\n",
    "tpr = 0.7\n",
    "fpr = 0.0001\n",
    "fnr = 0.3\n",
    "tnr = 99.99/100"
   ]
  },
  {
   "cell_type": "code",
   "execution_count": 87,
   "id": "07895728",
   "metadata": {},
   "outputs": [
    {
     "data": {
      "text/plain": [
       "0.5833819484957079"
      ]
     },
     "execution_count": 87,
     "metadata": {},
     "output_type": "execute_result"
    }
   ],
   "source": [
    "x = ((tpr*ph) / ((tpr*ph) + (fpr*(1-ph))))\n",
    "x"
   ]
  },
  {
   "cell_type": "code",
   "execution_count": 88,
   "id": "3bebe71b",
   "metadata": {},
   "outputs": [
    {
     "data": {
      "text/plain": [
       "0.4166180515042921"
      ]
     },
     "execution_count": 88,
     "metadata": {},
     "output_type": "execute_result"
    }
   ],
   "source": [
    "1-x"
   ]
  },
  {
   "cell_type": "code",
   "execution_count": 89,
   "id": "6f533b08",
   "metadata": {},
   "outputs": [
    {
     "data": {
      "text/plain": [
       "0.00023998"
      ]
     },
     "execution_count": 89,
     "metadata": {},
     "output_type": "execute_result"
    }
   ],
   "source": [
    "e = (tpr*ph) + (fpr*(1-ph))\n",
    "e"
   ]
  },
  {
   "cell_type": "code",
   "execution_count": 92,
   "id": "658de00e",
   "metadata": {},
   "outputs": [],
   "source": [
    "z=1-e"
   ]
  },
  {
   "cell_type": "code",
   "execution_count": 93,
   "id": "7ef29204",
   "metadata": {},
   "outputs": [
    {
     "data": {
      "text/plain": [
       "6.001440225625346e-05"
      ]
     },
     "execution_count": 93,
     "metadata": {},
     "output_type": "execute_result"
    }
   ],
   "source": [
    "p = fnr * ph\n",
    "hasil = p/z\n",
    "hasil"
   ]
  },
  {
   "cell_type": "code",
   "execution_count": 94,
   "id": "0fc81563",
   "metadata": {},
   "outputs": [
    {
     "data": {
      "text/plain": [
       "0.9999399855977438"
      ]
     },
     "execution_count": 94,
     "metadata": {},
     "output_type": "execute_result"
    }
   ],
   "source": [
    "1-hasil"
   ]
  },
  {
   "cell_type": "code",
   "execution_count": 96,
   "id": "78316c94",
   "metadata": {},
   "outputs": [
    {
     "data": {
      "text/plain": [
       "0.9998400199999999"
      ]
     },
     "execution_count": 96,
     "metadata": {},
     "output_type": "execute_result"
    }
   ],
   "source": [
    "akurasi = 0.00014 + ((1-ph)*tnr)\n",
    "akurasi"
   ]
  },
  {
   "cell_type": "code",
   "execution_count": 9,
   "id": "21a345a2",
   "metadata": {},
   "outputs": [],
   "source": [
    "from math import comb"
   ]
  },
  {
   "cell_type": "code",
   "execution_count": 10,
   "id": "1158e66e",
   "metadata": {},
   "outputs": [
    {
     "data": {
      "text/plain": [
       "0.00010025488477732141"
      ]
     },
     "execution_count": 10,
     "metadata": {},
     "output_type": "execute_result"
    }
   ],
   "source": [
    "comb(11,3)* (0.82 ** 3) * (0.18 ** 8)"
   ]
  },
  {
   "cell_type": "code",
   "execution_count": 11,
   "id": "d736cc4c",
   "metadata": {},
   "outputs": [
    {
     "data": {
      "text/plain": [
       "0.0010213460588353698"
      ]
     },
     "execution_count": 11,
     "metadata": {},
     "output_type": "execute_result"
    }
   ],
   "source": [
    "x1 = comb(11,1)* (0.82 ** 1) * (0.18 ** 10)\n",
    "x2 =comb(11,2)* (0.82 ** 2) * (0.18 ** 9)\n",
    "x3 = comb(11,3)* (0.82 ** 3) * (0.18 ** 8)\n",
    "x4 = comb(11,4)* (0.82 ** 4) * (0.18 ** 7)\n",
    "x1+x2+x3+x4"
   ]
  },
  {
   "cell_type": "markdown",
   "id": "10c8525b",
   "metadata": {},
   "source": [
    "# Binomial Distribution"
   ]
  },
  {
   "cell_type": "markdown",
   "id": "c8607ec1",
   "metadata": {},
   "source": [
    "#### E(X) Diskrit = n*p\n",
    "#### Var(X) Diskrit = n*p*q\n",
    "#### Modus Diskrit = f(x) tertinggi\n",
    "#### E(X) Continues uniform = (max + min) /2\n",
    "#### Var(X) Continues uniform = 1/12 (max-min)^2"
   ]
  },
  {
   "cell_type": "code",
   "execution_count": 12,
   "id": "426d23ee",
   "metadata": {},
   "outputs": [],
   "source": [
    "def binom_pmf(x, n, p):\n",
    "    return comb(n, x) * p ** x * (1 - p) ** (n - x)\n",
    "\n",
    "\n",
    "def binom_cdf(x, n, p):\n",
    "    cdf = 0\n",
    "    for i in range(x + 1):\n",
    "        cdf += binom_pmf(i, n, p)\n",
    "    return cdf\n",
    "\n",
    "# binom.cdf (x,n,p)\n",
    "# binom.pmf (x,n,p)"
   ]
  },
  {
   "cell_type": "code",
   "execution_count": 13,
   "id": "852ad159",
   "metadata": {},
   "outputs": [
    {
     "data": {
      "text/plain": [
       "0.9512682764025187"
      ]
     },
     "execution_count": 13,
     "metadata": {},
     "output_type": "execute_result"
    }
   ],
   "source": [
    "F15 = binom_cdf (15,100000,0.0001)\n",
    "F15"
   ]
  },
  {
   "cell_type": "code",
   "execution_count": 14,
   "id": "bb218db7",
   "metadata": {},
   "outputs": [
    {
     "data": {
      "text/plain": [
       "1.000000000000001"
      ]
     },
     "execution_count": 14,
     "metadata": {},
     "output_type": "execute_result"
    }
   ],
   "source": [
    "F100 = binom_cdf(100,100,0.0001)\n",
    "F100"
   ]
  },
  {
   "cell_type": "code",
   "execution_count": 15,
   "id": "da7febba",
   "metadata": {},
   "outputs": [],
   "source": [
    "F0 = binom_cdf(0,100,0.0001)"
   ]
  },
  {
   "cell_type": "code",
   "execution_count": 16,
   "id": "2e95fc39",
   "metadata": {},
   "outputs": [
    {
     "data": {
      "text/plain": [
       "0.009950661308629205"
      ]
     },
     "execution_count": 16,
     "metadata": {},
     "output_type": "execute_result"
    }
   ],
   "source": [
    "F100-F0"
   ]
  },
  {
   "cell_type": "code",
   "execution_count": 17,
   "id": "da1d3946",
   "metadata": {},
   "outputs": [
    {
     "data": {
      "text/plain": [
       "1.0000000000000056"
      ]
     },
     "execution_count": 17,
     "metadata": {},
     "output_type": "execute_result"
    }
   ],
   "source": [
    "F500 = binom_cdf(500,500,0.0001)\n",
    "F500"
   ]
  },
  {
   "cell_type": "code",
   "execution_count": 18,
   "id": "4e70dfe5",
   "metadata": {},
   "outputs": [],
   "source": [
    "F02 = binom_cdf (0,500,0.0001)"
   ]
  },
  {
   "cell_type": "code",
   "execution_count": 19,
   "id": "f9e1798a",
   "metadata": {},
   "outputs": [
    {
     "data": {
      "text/plain": [
       "0.04877295372842472"
      ]
     },
     "execution_count": 19,
     "metadata": {},
     "output_type": "execute_result"
    }
   ],
   "source": [
    "F500 - F02"
   ]
  },
  {
   "cell_type": "code",
   "execution_count": 20,
   "id": "d23508ae",
   "metadata": {},
   "outputs": [
    {
     "data": {
      "text/plain": [
       "1.0000000000000109"
      ]
     },
     "execution_count": 20,
     "metadata": {},
     "output_type": "execute_result"
    }
   ],
   "source": [
    "F1000 = binom_cdf(1000,1000,0.0001)\n",
    "F1000"
   ]
  },
  {
   "cell_type": "code",
   "execution_count": 21,
   "id": "5ae3dc26",
   "metadata": {},
   "outputs": [],
   "source": [
    "F03 = binom_cdf(0,1000,0.0001)"
   ]
  },
  {
   "cell_type": "code",
   "execution_count": 22,
   "id": "6b41a390",
   "metadata": {},
   "outputs": [
    {
     "data": {
      "text/plain": [
       "0.09516710644145465"
      ]
     },
     "execution_count": 22,
     "metadata": {},
     "output_type": "execute_result"
    }
   ],
   "source": [
    "F1000-F03"
   ]
  },
  {
   "cell_type": "code",
   "execution_count": 23,
   "id": "e2d6782e",
   "metadata": {},
   "outputs": [
    {
     "data": {
      "text/plain": [
       "0.09516710644145376"
      ]
     },
     "execution_count": 23,
     "metadata": {},
     "output_type": "execute_result"
    }
   ],
   "source": [
    "x= binom.cdf(1000,1000,0.0001)\n",
    "y =binom.cdf(0,1000,0.0001)\n",
    "x-y"
   ]
  },
  {
   "cell_type": "code",
   "execution_count": 24,
   "id": "85919234",
   "metadata": {},
   "outputs": [
    {
     "data": {
      "text/plain": [
       "0.999700029999"
      ]
     },
     "execution_count": 24,
     "metadata": {},
     "output_type": "execute_result"
    }
   ],
   "source": [
    "binom.cdf(0,3,0.0001)"
   ]
  },
  {
   "cell_type": "code",
   "execution_count": 25,
   "id": "fca45e39",
   "metadata": {},
   "outputs": [],
   "source": [
    "x2=binom.cdf(5,128,0.025)"
   ]
  },
  {
   "cell_type": "code",
   "execution_count": 26,
   "id": "2bc8ceb2",
   "metadata": {},
   "outputs": [
    {
     "data": {
      "text/plain": [
       "9.330460887113062e-07"
      ]
     },
     "execution_count": 26,
     "metadata": {},
     "output_type": "execute_result"
    }
   ],
   "source": [
    "binom.pmf(128,128,x2)"
   ]
  },
  {
   "cell_type": "code",
   "execution_count": 27,
   "id": "7cdcd174",
   "metadata": {},
   "outputs": [
    {
     "data": {
      "text/plain": [
       "0.00021"
      ]
     },
     "execution_count": 27,
     "metadata": {},
     "output_type": "execute_result"
    }
   ],
   "source": [
    "2.1 * 10**-4"
   ]
  },
  {
   "cell_type": "code",
   "execution_count": 129,
   "id": "6b07029f",
   "metadata": {},
   "outputs": [
    {
     "data": {
      "text/plain": [
       "2.1561391113281382e-07"
      ]
     },
     "execution_count": 129,
     "metadata": {},
     "output_type": "execute_result"
    }
   ],
   "source": [
    "pra1=binom.cdf(4,11,0.95)\n",
    "pra2=binom.cdf(0,11,0.95)\n",
    "pra1-pra2"
   ]
  },
  {
   "cell_type": "code",
   "execution_count": 131,
   "id": "034b3f1e",
   "metadata": {},
   "outputs": [
    {
     "data": {
      "text/plain": [
       "0.9984477490900391"
      ]
     },
     "execution_count": 131,
     "metadata": {},
     "output_type": "execute_result"
    }
   ],
   "source": [
    "pra3=binom.cdf(7,11,0.95)\n",
    "1-pra3"
   ]
  },
  {
   "cell_type": "code",
   "execution_count": 142,
   "id": "82ee3618",
   "metadata": {},
   "outputs": [],
   "source": [
    "sss=binom.cdf(1,9,0.82)\n",
    "sss1=((0.82**2)*sss) * 3 + ((0.82**3)+(0.18**8))"
   ]
  },
  {
   "cell_type": "code",
   "execution_count": 143,
   "id": "3b2cd657",
   "metadata": {},
   "outputs": [],
   "source": [
    "fav= binom.cdf(3,11,0.82)"
   ]
  },
  {
   "cell_type": "code",
   "execution_count": 144,
   "id": "0dd1a758",
   "metadata": {},
   "outputs": [
    {
     "data": {
      "text/plain": [
       "5109.252701861477"
      ]
     },
     "execution_count": 144,
     "metadata": {},
     "output_type": "execute_result"
    }
   ],
   "source": [
    "sss1/fav"
   ]
  },
  {
   "cell_type": "markdown",
   "id": "b717dd6a",
   "metadata": {},
   "source": [
    "### Pembuatan Table untuk cari modus"
   ]
  },
  {
   "cell_type": "code",
   "execution_count": 28,
   "id": "cfed49c3",
   "metadata": {},
   "outputs": [],
   "source": [
    "temp = {'x': [],\n",
    "       'fx': []}\n",
    "\n",
    "for i in range(0,101):\n",
    "    temp['x'].append(i)\n",
    "    temp['fx'].append(binom.pmf(i, n = 100, p = 0.7))"
   ]
  },
  {
   "cell_type": "code",
   "execution_count": 29,
   "id": "bea3593c",
   "metadata": {},
   "outputs": [
    {
     "data": {
      "text/html": [
       "<div>\n",
       "<style scoped>\n",
       "    .dataframe tbody tr th:only-of-type {\n",
       "        vertical-align: middle;\n",
       "    }\n",
       "\n",
       "    .dataframe tbody tr th {\n",
       "        vertical-align: top;\n",
       "    }\n",
       "\n",
       "    .dataframe thead th {\n",
       "        text-align: right;\n",
       "    }\n",
       "</style>\n",
       "<table border=\"1\" class=\"dataframe\">\n",
       "  <thead>\n",
       "    <tr style=\"text-align: right;\">\n",
       "      <th></th>\n",
       "      <th>x</th>\n",
       "      <th>fx</th>\n",
       "    </tr>\n",
       "  </thead>\n",
       "  <tbody>\n",
       "    <tr>\n",
       "      <th>70</th>\n",
       "      <td>70</td>\n",
       "      <td>8.678386e-02</td>\n",
       "    </tr>\n",
       "    <tr>\n",
       "      <th>71</th>\n",
       "      <td>71</td>\n",
       "      <td>8.556156e-02</td>\n",
       "    </tr>\n",
       "    <tr>\n",
       "      <th>69</th>\n",
       "      <td>69</td>\n",
       "      <td>8.398439e-02</td>\n",
       "    </tr>\n",
       "    <tr>\n",
       "      <th>72</th>\n",
       "      <td>72</td>\n",
       "      <td>8.041202e-02</td>\n",
       "    </tr>\n",
       "    <tr>\n",
       "      <th>68</th>\n",
       "      <td>68</td>\n",
       "      <td>7.761057e-02</td>\n",
       "    </tr>\n",
       "    <tr>\n",
       "      <th>...</th>\n",
       "      <td>...</td>\n",
       "      <td>...</td>\n",
       "    </tr>\n",
       "    <tr>\n",
       "      <th>4</th>\n",
       "      <td>4</td>\n",
       "      <td>5.990380e-45</td>\n",
       "    </tr>\n",
       "    <tr>\n",
       "      <th>3</th>\n",
       "      <td>3</td>\n",
       "      <td>1.058683e-46</td>\n",
       "    </tr>\n",
       "    <tr>\n",
       "      <th>2</th>\n",
       "      <td>2</td>\n",
       "      <td>1.388942e-48</td>\n",
       "    </tr>\n",
       "    <tr>\n",
       "      <th>1</th>\n",
       "      <td>1</td>\n",
       "      <td>1.202548e-50</td>\n",
       "    </tr>\n",
       "    <tr>\n",
       "      <th>0</th>\n",
       "      <td>0</td>\n",
       "      <td>5.153775e-53</td>\n",
       "    </tr>\n",
       "  </tbody>\n",
       "</table>\n",
       "<p>101 rows × 2 columns</p>\n",
       "</div>"
      ],
      "text/plain": [
       "     x            fx\n",
       "70  70  8.678386e-02\n",
       "71  71  8.556156e-02\n",
       "69  69  8.398439e-02\n",
       "72  72  8.041202e-02\n",
       "68  68  7.761057e-02\n",
       "..  ..           ...\n",
       "4    4  5.990380e-45\n",
       "3    3  1.058683e-46\n",
       "2    2  1.388942e-48\n",
       "1    1  1.202548e-50\n",
       "0    0  5.153775e-53\n",
       "\n",
       "[101 rows x 2 columns]"
      ]
     },
     "execution_count": 29,
     "metadata": {},
     "output_type": "execute_result"
    }
   ],
   "source": [
    "tabel = pd.DataFrame(temp)\n",
    "tabel.sort_values('fx', ascending = False)"
   ]
  },
  {
   "cell_type": "markdown",
   "id": "67f734d3",
   "metadata": {},
   "source": [
    "# Geometric Distribution\n",
    "#### biasanya untuk mencari jumlah percobaan yang dibutuhkan untuk menghasilkan sukses pertama"
   ]
  },
  {
   "cell_type": "code",
   "execution_count": 30,
   "id": "84d39ff7",
   "metadata": {},
   "outputs": [],
   "source": [
    "def geom_pmf(x, n, p):\n",
    "    return p * (1-p) ** (x-1)\n",
    "\n",
    "def geom_cdf(x, n, p):\n",
    "    cdf = 0\n",
    "    for i in range(1, x+1):\n",
    "        cdf += geom_pmf(i, n, p)\n",
    "    return cdf\n",
    "\n",
    "# geom.pmf (x,peluang) untuk f kecil\n",
    "# geom.cdf (x,peluang) untuk F besar"
   ]
  },
  {
   "cell_type": "code",
   "execution_count": 31,
   "id": "a5a0cdc9",
   "metadata": {},
   "outputs": [
    {
     "data": {
      "text/plain": [
       "0.005616247540346135"
      ]
     },
     "execution_count": 31,
     "metadata": {},
     "output_type": "execute_result"
    }
   ],
   "source": [
    "geom.pmf(66,p=0.015)"
   ]
  },
  {
   "cell_type": "code",
   "execution_count": 32,
   "id": "04bd6e03",
   "metadata": {},
   "outputs": [],
   "source": [
    "F85 = geom.cdf (85,0.015)"
   ]
  },
  {
   "cell_type": "code",
   "execution_count": 33,
   "id": "18024215",
   "metadata": {},
   "outputs": [],
   "source": [
    "F66 = geom.cdf (66,0.015)"
   ]
  },
  {
   "cell_type": "code",
   "execution_count": 34,
   "id": "c32e9f85",
   "metadata": {},
   "outputs": [
    {
     "data": {
      "text/plain": [
       "0.09205537676500464"
      ]
     },
     "execution_count": 34,
     "metadata": {},
     "output_type": "execute_result"
    }
   ],
   "source": [
    "F85-F66"
   ]
  },
  {
   "cell_type": "markdown",
   "id": "ec7793d5",
   "metadata": {},
   "source": [
    "# Poisson Distribution"
   ]
  },
  {
   "cell_type": "markdown",
   "id": "2d454f9c",
   "metadata": {},
   "source": [
    "### Beta = rata-rata waktu antar event\n",
    "### Alpha = rata-rata jumlah event per periode waktu\n",
    "### alpha = 1 / Beta"
   ]
  },
  {
   "cell_type": "code",
   "execution_count": 39,
   "id": "333e6d86",
   "metadata": {},
   "outputs": [],
   "source": [
    "import scipy.stats as st"
   ]
  },
  {
   "cell_type": "code",
   "execution_count": 40,
   "id": "8e3646a2",
   "metadata": {},
   "outputs": [],
   "source": [
    "def poisson_pmf(x, lam):\n",
    "    return np.exp(-lam) * lam ** x / factorial(x)\n",
    "\n",
    "def poisson_cdf(x, lam):\n",
    "    cdf = 0\n",
    "    for i in range(0, x+1):\n",
    "        cdf += poisson_pmf(i, lam)\n",
    "    return cdf\n",
    "\n",
    "# PAKAI poisson.cdf (x,lam) untuk F besar\n",
    "# pakai poisson.pmf(x,lam) untuk f kecil"
   ]
  },
  {
   "cell_type": "code",
   "execution_count": 41,
   "id": "1290cdf1",
   "metadata": {},
   "outputs": [],
   "source": [
    "# rumus poisson f = np.exp(-lam) * lam ** x / factorial(x)"
   ]
  },
  {
   "cell_type": "code",
   "execution_count": 42,
   "id": "097b1978",
   "metadata": {},
   "outputs": [
    {
     "data": {
      "text/plain": [
       "0.7618966944464557"
      ]
     },
     "execution_count": 42,
     "metadata": {},
     "output_type": "execute_result"
    }
   ],
   "source": [
    "lam = 4\n",
    "F2 = 0\n",
    "for x in [0, 1, 2]:\n",
    "    F2 += np.exp(-lam) * lam ** x / factorial(x)\n",
    "1 - F2"
   ]
  },
  {
   "cell_type": "code",
   "execution_count": 43,
   "id": "357080df",
   "metadata": {},
   "outputs": [
    {
     "data": {
      "text/plain": [
       "0.7618966944464556"
      ]
     },
     "execution_count": 43,
     "metadata": {},
     "output_type": "execute_result"
    }
   ],
   "source": [
    "# atau bisa juga pake st.poisson\n",
    "1 - st.poisson.cdf(2, mu = 4) # mencari p(<3) dengan 1- F(2)"
   ]
  },
  {
   "cell_type": "markdown",
   "id": "6be55a75",
   "metadata": {},
   "source": [
    "# Distribusi Normal"
   ]
  },
  {
   "cell_type": "code",
   "execution_count": 79,
   "id": "d23a6725",
   "metadata": {},
   "outputs": [],
   "source": [
    "import scipy.stats as st\n",
    "from math import gamma, factorial\n",
    "# Untuk normal bisa st.norm.cdf (x, loc =... , scale =..) \n",
    "# loc = mean\n",
    "# scale = standar deviasi"
   ]
  },
  {
   "cell_type": "code",
   "execution_count": 80,
   "id": "a6a8b3a9",
   "metadata": {},
   "outputs": [
    {
     "data": {
      "text/plain": [
       "0.9544997361036416"
      ]
     },
     "execution_count": 80,
     "metadata": {},
     "output_type": "execute_result"
    }
   ],
   "source": [
    "st.norm.cdf(29,loc=25,scale=2) - st.norm.cdf(21,loc=25,scale=2) #Contoh F29 dengan mean 25 dan stand.dev = 2"
   ]
  },
  {
   "cell_type": "code",
   "execution_count": 81,
   "id": "25f1ffda",
   "metadata": {},
   "outputs": [
    {
     "data": {
      "text/plain": [
       "0.02275013194817921"
      ]
     },
     "execution_count": 81,
     "metadata": {},
     "output_type": "execute_result"
    }
   ],
   "source": [
    "1 - st.norm.cdf(29,loc=25,scale=2)"
   ]
  },
  {
   "cell_type": "code",
   "execution_count": 82,
   "id": "dde59358",
   "metadata": {},
   "outputs": [
    {
     "data": {
      "text/plain": [
       "0.0227501319481792"
      ]
     },
     "execution_count": 82,
     "metadata": {},
     "output_type": "execute_result"
    }
   ],
   "source": [
    "st.norm.cdf(21,loc=25,scale=2)"
   ]
  },
  {
   "cell_type": "markdown",
   "id": "50389a2e",
   "metadata": {},
   "source": [
    "# DISTRIBUSI GAMMA"
   ]
  },
  {
   "cell_type": "markdown",
   "id": "651cf164",
   "metadata": {},
   "source": [
    "## Eksponential ( alpha = 1) atau 1 kejadian\n",
    "## E(X) = beta\n",
    "## Var(x) = beta ^2"
   ]
  },
  {
   "cell_type": "code",
   "execution_count": 70,
   "id": "3be6e558",
   "metadata": {},
   "outputs": [],
   "source": [
    "from sympy import symbols, integrate, exp, oo, diff\n",
    "from math import gamma, factorial\n",
    "from scipy.stats import gamma"
   ]
  },
  {
   "cell_type": "code",
   "execution_count": 71,
   "id": "b6ed99f6",
   "metadata": {},
   "outputs": [
    {
     "data": {
      "text/latex": [
       "$\\displaystyle 1.0 - \\frac{1.0}{e^{2}}$"
      ],
      "text/plain": [
       "1.0 - 1.0*exp(-2)"
      ]
     },
     "execution_count": 71,
     "metadata": {},
     "output_type": "execute_result"
    }
   ],
   "source": [
    "# Contoh eksponential\n",
    "from sympy import symbols, integrate, exp\n",
    "x = symbols('x')\n",
    "beta = 5000\n",
    "f = 1 / beta * exp(-x/beta)\n",
    "\n",
    "# integrate(f,(x,batas bawah, batas atas))\n",
    "\n",
    "F10000 = integrate(f, (x, 0, 10000))\n",
    "F10000"
   ]
  },
  {
   "cell_type": "code",
   "execution_count": 72,
   "id": "81abc331",
   "metadata": {},
   "outputs": [
    {
     "data": {
      "text/plain": [
       "0.8646647167633873"
      ]
     },
     "execution_count": 72,
     "metadata": {},
     "output_type": "execute_result"
    }
   ],
   "source": [
    "1 - 1/np.exp(2)"
   ]
  },
  {
   "cell_type": "code",
   "execution_count": 73,
   "id": "65b9e3a4",
   "metadata": {},
   "outputs": [],
   "source": [
    "# Bisa juga pake gamma.cdf (x, a= , scale= ..)"
   ]
  },
  {
   "cell_type": "code",
   "execution_count": 74,
   "id": "d85d24f3",
   "metadata": {},
   "outputs": [
    {
     "data": {
      "text/plain": [
       "0.8646647167633873"
      ]
     },
     "execution_count": 74,
     "metadata": {},
     "output_type": "execute_result"
    }
   ],
   "source": [
    "x= gamma.cdf(10000, a = 1, scale = 5000)\n",
    "x"
   ]
  },
  {
   "cell_type": "code",
   "execution_count": 78,
   "id": "61d1fcaa",
   "metadata": {},
   "outputs": [
    {
     "data": {
      "text/plain": [
       "0.9932620530009145"
      ]
     },
     "execution_count": 78,
     "metadata": {},
     "output_type": "execute_result"
    }
   ],
   "source": [
    "x = gamma.cdf(0.5,a=1,scale=0.1)\n",
    "x"
   ]
  },
  {
   "cell_type": "markdown",
   "id": "f1f3f308",
   "metadata": {},
   "source": [
    "## Erland Distribution\n",
    "## alpha > 1  atau lebih dari 1 kejadian"
   ]
  },
  {
   "cell_type": "code",
   "execution_count": 53,
   "id": "590c8334",
   "metadata": {},
   "outputs": [],
   "source": [
    "import scipy.stats as st\n",
    "from math import gamma, factorial"
   ]
  },
  {
   "cell_type": "code",
   "execution_count": 54,
   "id": "7e30c7b3",
   "metadata": {},
   "outputs": [],
   "source": [
    "alpha = 3\n",
    "beta = 5000\n",
    "f = 1 / (beta ** alpha * gamma(alpha)) * x ** (alpha - 1) * exp(-x / beta)"
   ]
  },
  {
   "cell_type": "markdown",
   "id": "cf617ddd",
   "metadata": {},
   "source": [
    "###  F(20000) menggunakan distribusi Erlang(alpha = 3, beta = 5000)"
   ]
  },
  {
   "cell_type": "code",
   "execution_count": 55,
   "id": "978f3918",
   "metadata": {},
   "outputs": [
    {
     "data": {
      "text/plain": [
       "0.7618966944464556"
      ]
     },
     "execution_count": 55,
     "metadata": {},
     "output_type": "execute_result"
    }
   ],
   "source": [
    "1 - 13/np.exp(4) # pakai integral"
   ]
  },
  {
   "cell_type": "code",
   "execution_count": 56,
   "id": "41707dd6",
   "metadata": {},
   "outputs": [
    {
     "data": {
      "text/plain": [
       "0.7618966944464556"
      ]
     },
     "execution_count": 56,
     "metadata": {},
     "output_type": "execute_result"
    }
   ],
   "source": [
    "# Bisa juga pake st.gamma.cdf(x,a,scale)\n",
    "st.gamma.cdf(20000, a =3, scale = 5000)"
   ]
  },
  {
   "cell_type": "markdown",
   "id": "240936b3",
   "metadata": {},
   "source": [
    "# Weibull Distribution (weibull_min)\n",
    "#### Step 1 : cari alpha\n",
    "#### Step 2 : weibull"
   ]
  },
  {
   "cell_type": "code",
   "execution_count": 98,
   "id": "fdad863b",
   "metadata": {},
   "outputs": [
    {
     "data": {
      "text/plain": [
       "5.944036487242916e-05"
      ]
     },
     "execution_count": 98,
     "metadata": {},
     "output_type": "execute_result"
    }
   ],
   "source": [
    "mu = 4500\n",
    "beta = 1.15\n",
    "alpha = (mu / gamma ( 1 + 1/beta)) ** -beta\n",
    "alpha"
   ]
  },
  {
   "cell_type": "code",
   "execution_count": 58,
   "id": "cf8d3000",
   "metadata": {},
   "outputs": [
    {
     "data": {
      "text/plain": [
       "0.9061787166763419"
      ]
     },
     "execution_count": 58,
     "metadata": {},
     "output_type": "execute_result"
    }
   ],
   "source": [
    "st.weibull_min.cdf(10000, c = 1.15, scale = alpha ** (-1/1.15))\n",
    "\n",
    "# c = beta\n",
    "# scale = alpha ** (-1/beta)"
   ]
  },
  {
   "cell_type": "markdown",
   "id": "8d95d97d",
   "metadata": {},
   "source": [
    "## Jika diketahui k atau shape"
   ]
  },
  {
   "cell_type": "code",
   "execution_count": 106,
   "id": "5530d6cd",
   "metadata": {},
   "outputs": [
    {
     "data": {
      "text/plain": [
       "620.6085419025319"
      ]
     },
     "execution_count": 106,
     "metadata": {},
     "output_type": "execute_result"
    }
   ],
   "source": [
    "mean = 550\n",
    "k = 2\n",
    "alpha2 = (mean/gamma(1+1/k))\n",
    "alpha2"
   ]
  },
  {
   "cell_type": "code",
   "execution_count": 107,
   "id": "13ee1ec6",
   "metadata": {},
   "outputs": [
    {
     "data": {
      "text/plain": [
       "2.6964290420297414e-11"
      ]
     },
     "execution_count": 107,
     "metadata": {},
     "output_type": "execute_result"
    }
   ],
   "source": [
    "varians = alpha **-k * gamma(1+k)\n",
    "varians**2"
   ]
  },
  {
   "cell_type": "code",
   "execution_count": 109,
   "id": "1ad64103",
   "metadata": {},
   "outputs": [
    {
     "data": {
      "text/plain": [
       "0.6344417576554664"
      ]
     },
     "execution_count": 109,
     "metadata": {},
     "output_type": "execute_result"
    }
   ],
   "source": [
    "st.weibull_min.cdf(100, c = 1/620, scale = 2)"
   ]
  },
  {
   "cell_type": "markdown",
   "id": "1379d073",
   "metadata": {},
   "source": [
    "# Modul 7"
   ]
  },
  {
   "cell_type": "markdown",
   "id": "9e2d33db",
   "metadata": {},
   "source": [
    "### Fungsi momen"
   ]
  },
  {
   "cell_type": "code",
   "execution_count": 59,
   "id": "4dea037d",
   "metadata": {},
   "outputs": [],
   "source": [
    "from math import pi\n",
    "from sympy import oo, diff"
   ]
  },
  {
   "cell_type": "code",
   "execution_count": 60,
   "id": "992dc6d1",
   "metadata": {},
   "outputs": [],
   "source": [
    "#Contoh dari responsi uts mean = 25 v dan stdeviasi = 2\n",
    "sigma = 2\n",
    "mu = 25"
   ]
  },
  {
   "cell_type": "code",
   "execution_count": 61,
   "id": "42f9a3be",
   "metadata": {},
   "outputs": [],
   "source": [
    "v, t = symbols('v, t')"
   ]
  },
  {
   "cell_type": "code",
   "execution_count": 62,
   "id": "c2b3ac30",
   "metadata": {},
   "outputs": [],
   "source": [
    "# Pakai momen ke-4\n",
    "f = v ** 4 / (sigma * (2 * pi) ** (1/2)) * exp(-1/(2*sigma ** 2)*(v-mu)**2)"
   ]
  },
  {
   "cell_type": "code",
   "execution_count": 63,
   "id": "8335abce",
   "metadata": {},
   "outputs": [
    {
     "data": {
      "text/latex": [
       "$\\displaystyle 228876.480926569 \\sqrt{\\pi}$"
      ],
      "text/plain": [
       "228876.480926569*sqrt(pi)"
      ]
     },
     "execution_count": 63,
     "metadata": {},
     "output_type": "execute_result"
    }
   ],
   "source": [
    "integrate(f, (v, -oo, oo))"
   ]
  },
  {
   "cell_type": "code",
   "execution_count": 64,
   "id": "658847e3",
   "metadata": {},
   "outputs": [
    {
     "data": {
      "text/plain": [
       "405673.00000000006"
      ]
     },
     "execution_count": 64,
     "metadata": {},
     "output_type": "execute_result"
    }
   ],
   "source": [
    "EV4 = 228876.480926569 * pi ** (1/2)\n",
    "EV4"
   ]
  },
  {
   "cell_type": "code",
   "execution_count": 65,
   "id": "04c40404",
   "metadata": {},
   "outputs": [
    {
     "data": {
      "text/plain": [
       "4056.7300000000005"
      ]
     },
     "execution_count": 65,
     "metadata": {},
     "output_type": "execute_result"
    }
   ],
   "source": [
    "# Maka E(p^2) = 405673 /100 \n",
    "Ep2 = EV4/100\n",
    "Ep2"
   ]
  },
  {
   "cell_type": "code",
   "execution_count": 66,
   "id": "fa3da791",
   "metadata": {},
   "outputs": [
    {
     "data": {
      "text/plain": [
       "100.32000000000062"
      ]
     },
     "execution_count": 66,
     "metadata": {},
     "output_type": "execute_result"
    }
   ],
   "source": [
    "# maka var(p) = E(p^2) - [(E(p)^2)]\n",
    "\n",
    "varp = Ep2 - 62.9 **2\n",
    "varp"
   ]
  },
  {
   "cell_type": "code",
   "execution_count": 111,
   "id": "d9375f02",
   "metadata": {},
   "outputs": [],
   "source": [
    "standev = 10\n",
    "meann = 25"
   ]
  },
  {
   "cell_type": "code",
   "execution_count": 112,
   "id": "900e9f32",
   "metadata": {},
   "outputs": [],
   "source": [
    "v, t = symbols('v, t')"
   ]
  },
  {
   "cell_type": "code",
   "execution_count": 114,
   "id": "881f762d",
   "metadata": {},
   "outputs": [],
   "source": [
    "# Pakai momen ke-4\n",
    "f = v ** 4 / (standev * (2 * pi) ** (1/2)) * exp(-1/(2*standev ** 2)*(v-meann)**2)"
   ]
  },
  {
   "cell_type": "code",
   "execution_count": 115,
   "id": "da322963",
   "metadata": {},
   "outputs": [
    {
     "data": {
      "text/latex": [
       "$\\displaystyle 448883.337410184 \\sqrt{\\pi}$"
      ],
      "text/plain": [
       "448883.337410184*sqrt(pi)"
      ]
     },
     "execution_count": 115,
     "metadata": {},
     "output_type": "execute_result"
    }
   ],
   "source": [
    "integrate(f, (v, -oo, oo))"
   ]
  },
  {
   "cell_type": "code",
   "execution_count": 116,
   "id": "c913b66b",
   "metadata": {},
   "outputs": [
    {
     "data": {
      "text/plain": [
       "795625.0000000006"
      ]
     },
     "execution_count": 116,
     "metadata": {},
     "output_type": "execute_result"
    }
   ],
   "source": [
    "prauts = 448883.337410184 * pi ** (1/2)\n",
    "prauts"
   ]
  },
  {
   "cell_type": "code",
   "execution_count": 117,
   "id": "ce60c9d9",
   "metadata": {},
   "outputs": [
    {
     "data": {
      "text/plain": [
       "497.26562500000034"
      ]
     },
     "execution_count": 117,
     "metadata": {},
     "output_type": "execute_result"
    }
   ],
   "source": [
    "prauts / 1600"
   ]
  },
  {
   "cell_type": "code",
   "execution_count": null,
   "id": "49c644ee",
   "metadata": {},
   "outputs": [],
   "source": []
  }
 ],
 "metadata": {
  "kernelspec": {
   "display_name": "Python 3 (ipykernel)",
   "language": "python",
   "name": "python3"
  },
  "language_info": {
   "codemirror_mode": {
    "name": "ipython",
    "version": 3
   },
   "file_extension": ".py",
   "mimetype": "text/x-python",
   "name": "python",
   "nbconvert_exporter": "python",
   "pygments_lexer": "ipython3",
   "version": "3.11.0"
  }
 },
 "nbformat": 4,
 "nbformat_minor": 5
}
